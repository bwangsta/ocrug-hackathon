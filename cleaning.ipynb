{
 "cells": [
  {
   "cell_type": "markdown",
   "metadata": {},
   "source": [
    "## Importing libraries"
   ]
  },
  {
   "cell_type": "code",
   "execution_count": 1,
   "metadata": {},
   "outputs": [],
   "source": [
    "import pandas as pd\n",
    "import numpy as np\n",
    "import matplotlib.pyplot as plt"
   ]
  },
  {
   "cell_type": "markdown",
   "metadata": {},
   "source": [
    "## Reading in datasets"
   ]
  },
  {
   "cell_type": "code",
   "execution_count": 2,
   "metadata": {},
   "outputs": [],
   "source": [
    "links_df = pd.read_csv(\"data/links.csv\")\n",
    "movies_df = pd.read_csv(\"data/movies.csv\")\n",
    "ratings_df = pd.read_csv(\"data/ratings.csv\")\n",
    "tags_df = pd.read_csv(\"data/tags.csv\")\n",
    "\n",
    "# External Datasets\n",
    "cast_df = pd.read_csv(\"data/cast.csv\")\n",
    "movie_info_df = pd.read_csv(\"data/movie_info.csv\")"
   ]
  },
  {
   "cell_type": "markdown",
   "metadata": {},
   "source": [
    "# Cleaning Movies Dataframe"
   ]
  },
  {
   "cell_type": "code",
   "execution_count": 3,
   "metadata": {},
   "outputs": [
    {
     "output_type": "execute_result",
     "data": {
      "text/plain": [
       "      movieId                                      title  \\\n",
       "0           1                           Toy Story (1995)   \n",
       "1           2                             Jumanji (1995)   \n",
       "2           3                    Grumpier Old Men (1995)   \n",
       "3           4                   Waiting to Exhale (1995)   \n",
       "4           5         Father of the Bride Part II (1995)   \n",
       "...       ...                                        ...   \n",
       "9737   193581  Black Butler: Book of the Atlantic (2017)   \n",
       "9738   193583               No Game No Life: Zero (2017)   \n",
       "9739   193585                               Flint (2017)   \n",
       "9740   193587        Bungo Stray Dogs: Dead Apple (2018)   \n",
       "9741   193609        Andrew Dice Clay: Dice Rules (1991)   \n",
       "\n",
       "                                           genres  \n",
       "0     Adventure|Animation|Children|Comedy|Fantasy  \n",
       "1                      Adventure|Children|Fantasy  \n",
       "2                                  Comedy|Romance  \n",
       "3                            Comedy|Drama|Romance  \n",
       "4                                          Comedy  \n",
       "...                                           ...  \n",
       "9737              Action|Animation|Comedy|Fantasy  \n",
       "9738                     Animation|Comedy|Fantasy  \n",
       "9739                                        Drama  \n",
       "9740                             Action|Animation  \n",
       "9741                                       Comedy  \n",
       "\n",
       "[9742 rows x 3 columns]"
      ],
      "text/html": "<div>\n<style scoped>\n    .dataframe tbody tr th:only-of-type {\n        vertical-align: middle;\n    }\n\n    .dataframe tbody tr th {\n        vertical-align: top;\n    }\n\n    .dataframe thead th {\n        text-align: right;\n    }\n</style>\n<table border=\"1\" class=\"dataframe\">\n  <thead>\n    <tr style=\"text-align: right;\">\n      <th></th>\n      <th>movieId</th>\n      <th>title</th>\n      <th>genres</th>\n    </tr>\n  </thead>\n  <tbody>\n    <tr>\n      <th>0</th>\n      <td>1</td>\n      <td>Toy Story (1995)</td>\n      <td>Adventure|Animation|Children|Comedy|Fantasy</td>\n    </tr>\n    <tr>\n      <th>1</th>\n      <td>2</td>\n      <td>Jumanji (1995)</td>\n      <td>Adventure|Children|Fantasy</td>\n    </tr>\n    <tr>\n      <th>2</th>\n      <td>3</td>\n      <td>Grumpier Old Men (1995)</td>\n      <td>Comedy|Romance</td>\n    </tr>\n    <tr>\n      <th>3</th>\n      <td>4</td>\n      <td>Waiting to Exhale (1995)</td>\n      <td>Comedy|Drama|Romance</td>\n    </tr>\n    <tr>\n      <th>4</th>\n      <td>5</td>\n      <td>Father of the Bride Part II (1995)</td>\n      <td>Comedy</td>\n    </tr>\n    <tr>\n      <th>...</th>\n      <td>...</td>\n      <td>...</td>\n      <td>...</td>\n    </tr>\n    <tr>\n      <th>9737</th>\n      <td>193581</td>\n      <td>Black Butler: Book of the Atlantic (2017)</td>\n      <td>Action|Animation|Comedy|Fantasy</td>\n    </tr>\n    <tr>\n      <th>9738</th>\n      <td>193583</td>\n      <td>No Game No Life: Zero (2017)</td>\n      <td>Animation|Comedy|Fantasy</td>\n    </tr>\n    <tr>\n      <th>9739</th>\n      <td>193585</td>\n      <td>Flint (2017)</td>\n      <td>Drama</td>\n    </tr>\n    <tr>\n      <th>9740</th>\n      <td>193587</td>\n      <td>Bungo Stray Dogs: Dead Apple (2018)</td>\n      <td>Action|Animation</td>\n    </tr>\n    <tr>\n      <th>9741</th>\n      <td>193609</td>\n      <td>Andrew Dice Clay: Dice Rules (1991)</td>\n      <td>Comedy</td>\n    </tr>\n  </tbody>\n</table>\n<p>9742 rows × 3 columns</p>\n</div>"
     },
     "metadata": {},
     "execution_count": 3
    }
   ],
   "source": [
    "movies_df1 = movies_df.copy()\n",
    "movies_df1"
   ]
  },
  {
   "cell_type": "markdown",
   "metadata": {},
   "source": [
    "### Separate genres and encode them"
   ]
  },
  {
   "cell_type": "code",
   "execution_count": 4,
   "metadata": {},
   "outputs": [
    {
     "output_type": "execute_result",
     "data": {
      "text/plain": [
       "      (no genres listed)  Action  Adventure  Animation  Children  Comedy  \\\n",
       "0                      0       0          1          1         1       1   \n",
       "1                      0       0          1          0         1       0   \n",
       "2                      0       0          0          0         0       1   \n",
       "3                      0       0          0          0         0       1   \n",
       "4                      0       0          0          0         0       1   \n",
       "...                  ...     ...        ...        ...       ...     ...   \n",
       "9737                   0       1          0          1         0       1   \n",
       "9738                   0       0          0          1         0       1   \n",
       "9739                   0       0          0          0         0       0   \n",
       "9740                   0       1          0          1         0       0   \n",
       "9741                   0       0          0          0         0       1   \n",
       "\n",
       "      Crime  Documentary  Drama  Fantasy  Film-Noir  Horror  IMAX  Musical  \\\n",
       "0         0            0      0        1          0       0     0        0   \n",
       "1         0            0      0        1          0       0     0        0   \n",
       "2         0            0      0        0          0       0     0        0   \n",
       "3         0            0      1        0          0       0     0        0   \n",
       "4         0            0      0        0          0       0     0        0   \n",
       "...     ...          ...    ...      ...        ...     ...   ...      ...   \n",
       "9737      0            0      0        1          0       0     0        0   \n",
       "9738      0            0      0        1          0       0     0        0   \n",
       "9739      0            0      1        0          0       0     0        0   \n",
       "9740      0            0      0        0          0       0     0        0   \n",
       "9741      0            0      0        0          0       0     0        0   \n",
       "\n",
       "      Mystery  Romance  Sci-Fi  Thriller  War  Western  \n",
       "0           0        0       0         0    0        0  \n",
       "1           0        0       0         0    0        0  \n",
       "2           0        1       0         0    0        0  \n",
       "3           0        1       0         0    0        0  \n",
       "4           0        0       0         0    0        0  \n",
       "...       ...      ...     ...       ...  ...      ...  \n",
       "9737        0        0       0         0    0        0  \n",
       "9738        0        0       0         0    0        0  \n",
       "9739        0        0       0         0    0        0  \n",
       "9740        0        0       0         0    0        0  \n",
       "9741        0        0       0         0    0        0  \n",
       "\n",
       "[9742 rows x 20 columns]"
      ],
      "text/html": "<div>\n<style scoped>\n    .dataframe tbody tr th:only-of-type {\n        vertical-align: middle;\n    }\n\n    .dataframe tbody tr th {\n        vertical-align: top;\n    }\n\n    .dataframe thead th {\n        text-align: right;\n    }\n</style>\n<table border=\"1\" class=\"dataframe\">\n  <thead>\n    <tr style=\"text-align: right;\">\n      <th></th>\n      <th>(no genres listed)</th>\n      <th>Action</th>\n      <th>Adventure</th>\n      <th>Animation</th>\n      <th>Children</th>\n      <th>Comedy</th>\n      <th>Crime</th>\n      <th>Documentary</th>\n      <th>Drama</th>\n      <th>Fantasy</th>\n      <th>Film-Noir</th>\n      <th>Horror</th>\n      <th>IMAX</th>\n      <th>Musical</th>\n      <th>Mystery</th>\n      <th>Romance</th>\n      <th>Sci-Fi</th>\n      <th>Thriller</th>\n      <th>War</th>\n      <th>Western</th>\n    </tr>\n  </thead>\n  <tbody>\n    <tr>\n      <th>0</th>\n      <td>0</td>\n      <td>0</td>\n      <td>1</td>\n      <td>1</td>\n      <td>1</td>\n      <td>1</td>\n      <td>0</td>\n      <td>0</td>\n      <td>0</td>\n      <td>1</td>\n      <td>0</td>\n      <td>0</td>\n      <td>0</td>\n      <td>0</td>\n      <td>0</td>\n      <td>0</td>\n      <td>0</td>\n      <td>0</td>\n      <td>0</td>\n      <td>0</td>\n    </tr>\n    <tr>\n      <th>1</th>\n      <td>0</td>\n      <td>0</td>\n      <td>1</td>\n      <td>0</td>\n      <td>1</td>\n      <td>0</td>\n      <td>0</td>\n      <td>0</td>\n      <td>0</td>\n      <td>1</td>\n      <td>0</td>\n      <td>0</td>\n      <td>0</td>\n      <td>0</td>\n      <td>0</td>\n      <td>0</td>\n      <td>0</td>\n      <td>0</td>\n      <td>0</td>\n      <td>0</td>\n    </tr>\n    <tr>\n      <th>2</th>\n      <td>0</td>\n      <td>0</td>\n      <td>0</td>\n      <td>0</td>\n      <td>0</td>\n      <td>1</td>\n      <td>0</td>\n      <td>0</td>\n      <td>0</td>\n      <td>0</td>\n      <td>0</td>\n      <td>0</td>\n      <td>0</td>\n      <td>0</td>\n      <td>0</td>\n      <td>1</td>\n      <td>0</td>\n      <td>0</td>\n      <td>0</td>\n      <td>0</td>\n    </tr>\n    <tr>\n      <th>3</th>\n      <td>0</td>\n      <td>0</td>\n      <td>0</td>\n      <td>0</td>\n      <td>0</td>\n      <td>1</td>\n      <td>0</td>\n      <td>0</td>\n      <td>1</td>\n      <td>0</td>\n      <td>0</td>\n      <td>0</td>\n      <td>0</td>\n      <td>0</td>\n      <td>0</td>\n      <td>1</td>\n      <td>0</td>\n      <td>0</td>\n      <td>0</td>\n      <td>0</td>\n    </tr>\n    <tr>\n      <th>4</th>\n      <td>0</td>\n      <td>0</td>\n      <td>0</td>\n      <td>0</td>\n      <td>0</td>\n      <td>1</td>\n      <td>0</td>\n      <td>0</td>\n      <td>0</td>\n      <td>0</td>\n      <td>0</td>\n      <td>0</td>\n      <td>0</td>\n      <td>0</td>\n      <td>0</td>\n      <td>0</td>\n      <td>0</td>\n      <td>0</td>\n      <td>0</td>\n      <td>0</td>\n    </tr>\n    <tr>\n      <th>...</th>\n      <td>...</td>\n      <td>...</td>\n      <td>...</td>\n      <td>...</td>\n      <td>...</td>\n      <td>...</td>\n      <td>...</td>\n      <td>...</td>\n      <td>...</td>\n      <td>...</td>\n      <td>...</td>\n      <td>...</td>\n      <td>...</td>\n      <td>...</td>\n      <td>...</td>\n      <td>...</td>\n      <td>...</td>\n      <td>...</td>\n      <td>...</td>\n      <td>...</td>\n    </tr>\n    <tr>\n      <th>9737</th>\n      <td>0</td>\n      <td>1</td>\n      <td>0</td>\n      <td>1</td>\n      <td>0</td>\n      <td>1</td>\n      <td>0</td>\n      <td>0</td>\n      <td>0</td>\n      <td>1</td>\n      <td>0</td>\n      <td>0</td>\n      <td>0</td>\n      <td>0</td>\n      <td>0</td>\n      <td>0</td>\n      <td>0</td>\n      <td>0</td>\n      <td>0</td>\n      <td>0</td>\n    </tr>\n    <tr>\n      <th>9738</th>\n      <td>0</td>\n      <td>0</td>\n      <td>0</td>\n      <td>1</td>\n      <td>0</td>\n      <td>1</td>\n      <td>0</td>\n      <td>0</td>\n      <td>0</td>\n      <td>1</td>\n      <td>0</td>\n      <td>0</td>\n      <td>0</td>\n      <td>0</td>\n      <td>0</td>\n      <td>0</td>\n      <td>0</td>\n      <td>0</td>\n      <td>0</td>\n      <td>0</td>\n    </tr>\n    <tr>\n      <th>9739</th>\n      <td>0</td>\n      <td>0</td>\n      <td>0</td>\n      <td>0</td>\n      <td>0</td>\n      <td>0</td>\n      <td>0</td>\n      <td>0</td>\n      <td>1</td>\n      <td>0</td>\n      <td>0</td>\n      <td>0</td>\n      <td>0</td>\n      <td>0</td>\n      <td>0</td>\n      <td>0</td>\n      <td>0</td>\n      <td>0</td>\n      <td>0</td>\n      <td>0</td>\n    </tr>\n    <tr>\n      <th>9740</th>\n      <td>0</td>\n      <td>1</td>\n      <td>0</td>\n      <td>1</td>\n      <td>0</td>\n      <td>0</td>\n      <td>0</td>\n      <td>0</td>\n      <td>0</td>\n      <td>0</td>\n      <td>0</td>\n      <td>0</td>\n      <td>0</td>\n      <td>0</td>\n      <td>0</td>\n      <td>0</td>\n      <td>0</td>\n      <td>0</td>\n      <td>0</td>\n      <td>0</td>\n    </tr>\n    <tr>\n      <th>9741</th>\n      <td>0</td>\n      <td>0</td>\n      <td>0</td>\n      <td>0</td>\n      <td>0</td>\n      <td>1</td>\n      <td>0</td>\n      <td>0</td>\n      <td>0</td>\n      <td>0</td>\n      <td>0</td>\n      <td>0</td>\n      <td>0</td>\n      <td>0</td>\n      <td>0</td>\n      <td>0</td>\n      <td>0</td>\n      <td>0</td>\n      <td>0</td>\n      <td>0</td>\n    </tr>\n  </tbody>\n</table>\n<p>9742 rows × 20 columns</p>\n</div>"
     },
     "metadata": {},
     "execution_count": 4
    }
   ],
   "source": [
    "genres_df = movies_df1['genres'].str.get_dummies()\n",
    "genres_df"
   ]
  },
  {
   "cell_type": "code",
   "execution_count": 5,
   "metadata": {},
   "outputs": [
    {
     "output_type": "execute_result",
     "data": {
      "text/plain": [
       "      movieId                                      title  \\\n",
       "0           1                           Toy Story (1995)   \n",
       "1           2                             Jumanji (1995)   \n",
       "2           3                    Grumpier Old Men (1995)   \n",
       "3           4                   Waiting to Exhale (1995)   \n",
       "4           5         Father of the Bride Part II (1995)   \n",
       "...       ...                                        ...   \n",
       "9737   193581  Black Butler: Book of the Atlantic (2017)   \n",
       "9738   193583               No Game No Life: Zero (2017)   \n",
       "9739   193585                               Flint (2017)   \n",
       "9740   193587        Bungo Stray Dogs: Dead Apple (2018)   \n",
       "9741   193609        Andrew Dice Clay: Dice Rules (1991)   \n",
       "\n",
       "                                           genres  (no genres listed)  Action  \\\n",
       "0     Adventure|Animation|Children|Comedy|Fantasy                   0       0   \n",
       "1                      Adventure|Children|Fantasy                   0       0   \n",
       "2                                  Comedy|Romance                   0       0   \n",
       "3                            Comedy|Drama|Romance                   0       0   \n",
       "4                                          Comedy                   0       0   \n",
       "...                                           ...                 ...     ...   \n",
       "9737              Action|Animation|Comedy|Fantasy                   0       1   \n",
       "9738                     Animation|Comedy|Fantasy                   0       0   \n",
       "9739                                        Drama                   0       0   \n",
       "9740                             Action|Animation                   0       1   \n",
       "9741                                       Comedy                   0       0   \n",
       "\n",
       "      Adventure  Animation  Children  Comedy  Crime  ...  Film-Noir  Horror  \\\n",
       "0             1          1         1       1      0  ...          0       0   \n",
       "1             1          0         1       0      0  ...          0       0   \n",
       "2             0          0         0       1      0  ...          0       0   \n",
       "3             0          0         0       1      0  ...          0       0   \n",
       "4             0          0         0       1      0  ...          0       0   \n",
       "...         ...        ...       ...     ...    ...  ...        ...     ...   \n",
       "9737          0          1         0       1      0  ...          0       0   \n",
       "9738          0          1         0       1      0  ...          0       0   \n",
       "9739          0          0         0       0      0  ...          0       0   \n",
       "9740          0          1         0       0      0  ...          0       0   \n",
       "9741          0          0         0       1      0  ...          0       0   \n",
       "\n",
       "      IMAX  Musical  Mystery  Romance  Sci-Fi  Thriller  War  Western  \n",
       "0        0        0        0        0       0         0    0        0  \n",
       "1        0        0        0        0       0         0    0        0  \n",
       "2        0        0        0        1       0         0    0        0  \n",
       "3        0        0        0        1       0         0    0        0  \n",
       "4        0        0        0        0       0         0    0        0  \n",
       "...    ...      ...      ...      ...     ...       ...  ...      ...  \n",
       "9737     0        0        0        0       0         0    0        0  \n",
       "9738     0        0        0        0       0         0    0        0  \n",
       "9739     0        0        0        0       0         0    0        0  \n",
       "9740     0        0        0        0       0         0    0        0  \n",
       "9741     0        0        0        0       0         0    0        0  \n",
       "\n",
       "[9742 rows x 23 columns]"
      ],
      "text/html": "<div>\n<style scoped>\n    .dataframe tbody tr th:only-of-type {\n        vertical-align: middle;\n    }\n\n    .dataframe tbody tr th {\n        vertical-align: top;\n    }\n\n    .dataframe thead th {\n        text-align: right;\n    }\n</style>\n<table border=\"1\" class=\"dataframe\">\n  <thead>\n    <tr style=\"text-align: right;\">\n      <th></th>\n      <th>movieId</th>\n      <th>title</th>\n      <th>genres</th>\n      <th>(no genres listed)</th>\n      <th>Action</th>\n      <th>Adventure</th>\n      <th>Animation</th>\n      <th>Children</th>\n      <th>Comedy</th>\n      <th>Crime</th>\n      <th>...</th>\n      <th>Film-Noir</th>\n      <th>Horror</th>\n      <th>IMAX</th>\n      <th>Musical</th>\n      <th>Mystery</th>\n      <th>Romance</th>\n      <th>Sci-Fi</th>\n      <th>Thriller</th>\n      <th>War</th>\n      <th>Western</th>\n    </tr>\n  </thead>\n  <tbody>\n    <tr>\n      <th>0</th>\n      <td>1</td>\n      <td>Toy Story (1995)</td>\n      <td>Adventure|Animation|Children|Comedy|Fantasy</td>\n      <td>0</td>\n      <td>0</td>\n      <td>1</td>\n      <td>1</td>\n      <td>1</td>\n      <td>1</td>\n      <td>0</td>\n      <td>...</td>\n      <td>0</td>\n      <td>0</td>\n      <td>0</td>\n      <td>0</td>\n      <td>0</td>\n      <td>0</td>\n      <td>0</td>\n      <td>0</td>\n      <td>0</td>\n      <td>0</td>\n    </tr>\n    <tr>\n      <th>1</th>\n      <td>2</td>\n      <td>Jumanji (1995)</td>\n      <td>Adventure|Children|Fantasy</td>\n      <td>0</td>\n      <td>0</td>\n      <td>1</td>\n      <td>0</td>\n      <td>1</td>\n      <td>0</td>\n      <td>0</td>\n      <td>...</td>\n      <td>0</td>\n      <td>0</td>\n      <td>0</td>\n      <td>0</td>\n      <td>0</td>\n      <td>0</td>\n      <td>0</td>\n      <td>0</td>\n      <td>0</td>\n      <td>0</td>\n    </tr>\n    <tr>\n      <th>2</th>\n      <td>3</td>\n      <td>Grumpier Old Men (1995)</td>\n      <td>Comedy|Romance</td>\n      <td>0</td>\n      <td>0</td>\n      <td>0</td>\n      <td>0</td>\n      <td>0</td>\n      <td>1</td>\n      <td>0</td>\n      <td>...</td>\n      <td>0</td>\n      <td>0</td>\n      <td>0</td>\n      <td>0</td>\n      <td>0</td>\n      <td>1</td>\n      <td>0</td>\n      <td>0</td>\n      <td>0</td>\n      <td>0</td>\n    </tr>\n    <tr>\n      <th>3</th>\n      <td>4</td>\n      <td>Waiting to Exhale (1995)</td>\n      <td>Comedy|Drama|Romance</td>\n      <td>0</td>\n      <td>0</td>\n      <td>0</td>\n      <td>0</td>\n      <td>0</td>\n      <td>1</td>\n      <td>0</td>\n      <td>...</td>\n      <td>0</td>\n      <td>0</td>\n      <td>0</td>\n      <td>0</td>\n      <td>0</td>\n      <td>1</td>\n      <td>0</td>\n      <td>0</td>\n      <td>0</td>\n      <td>0</td>\n    </tr>\n    <tr>\n      <th>4</th>\n      <td>5</td>\n      <td>Father of the Bride Part II (1995)</td>\n      <td>Comedy</td>\n      <td>0</td>\n      <td>0</td>\n      <td>0</td>\n      <td>0</td>\n      <td>0</td>\n      <td>1</td>\n      <td>0</td>\n      <td>...</td>\n      <td>0</td>\n      <td>0</td>\n      <td>0</td>\n      <td>0</td>\n      <td>0</td>\n      <td>0</td>\n      <td>0</td>\n      <td>0</td>\n      <td>0</td>\n      <td>0</td>\n    </tr>\n    <tr>\n      <th>...</th>\n      <td>...</td>\n      <td>...</td>\n      <td>...</td>\n      <td>...</td>\n      <td>...</td>\n      <td>...</td>\n      <td>...</td>\n      <td>...</td>\n      <td>...</td>\n      <td>...</td>\n      <td>...</td>\n      <td>...</td>\n      <td>...</td>\n      <td>...</td>\n      <td>...</td>\n      <td>...</td>\n      <td>...</td>\n      <td>...</td>\n      <td>...</td>\n      <td>...</td>\n      <td>...</td>\n    </tr>\n    <tr>\n      <th>9737</th>\n      <td>193581</td>\n      <td>Black Butler: Book of the Atlantic (2017)</td>\n      <td>Action|Animation|Comedy|Fantasy</td>\n      <td>0</td>\n      <td>1</td>\n      <td>0</td>\n      <td>1</td>\n      <td>0</td>\n      <td>1</td>\n      <td>0</td>\n      <td>...</td>\n      <td>0</td>\n      <td>0</td>\n      <td>0</td>\n      <td>0</td>\n      <td>0</td>\n      <td>0</td>\n      <td>0</td>\n      <td>0</td>\n      <td>0</td>\n      <td>0</td>\n    </tr>\n    <tr>\n      <th>9738</th>\n      <td>193583</td>\n      <td>No Game No Life: Zero (2017)</td>\n      <td>Animation|Comedy|Fantasy</td>\n      <td>0</td>\n      <td>0</td>\n      <td>0</td>\n      <td>1</td>\n      <td>0</td>\n      <td>1</td>\n      <td>0</td>\n      <td>...</td>\n      <td>0</td>\n      <td>0</td>\n      <td>0</td>\n      <td>0</td>\n      <td>0</td>\n      <td>0</td>\n      <td>0</td>\n      <td>0</td>\n      <td>0</td>\n      <td>0</td>\n    </tr>\n    <tr>\n      <th>9739</th>\n      <td>193585</td>\n      <td>Flint (2017)</td>\n      <td>Drama</td>\n      <td>0</td>\n      <td>0</td>\n      <td>0</td>\n      <td>0</td>\n      <td>0</td>\n      <td>0</td>\n      <td>0</td>\n      <td>...</td>\n      <td>0</td>\n      <td>0</td>\n      <td>0</td>\n      <td>0</td>\n      <td>0</td>\n      <td>0</td>\n      <td>0</td>\n      <td>0</td>\n      <td>0</td>\n      <td>0</td>\n    </tr>\n    <tr>\n      <th>9740</th>\n      <td>193587</td>\n      <td>Bungo Stray Dogs: Dead Apple (2018)</td>\n      <td>Action|Animation</td>\n      <td>0</td>\n      <td>1</td>\n      <td>0</td>\n      <td>1</td>\n      <td>0</td>\n      <td>0</td>\n      <td>0</td>\n      <td>...</td>\n      <td>0</td>\n      <td>0</td>\n      <td>0</td>\n      <td>0</td>\n      <td>0</td>\n      <td>0</td>\n      <td>0</td>\n      <td>0</td>\n      <td>0</td>\n      <td>0</td>\n    </tr>\n    <tr>\n      <th>9741</th>\n      <td>193609</td>\n      <td>Andrew Dice Clay: Dice Rules (1991)</td>\n      <td>Comedy</td>\n      <td>0</td>\n      <td>0</td>\n      <td>0</td>\n      <td>0</td>\n      <td>0</td>\n      <td>1</td>\n      <td>0</td>\n      <td>...</td>\n      <td>0</td>\n      <td>0</td>\n      <td>0</td>\n      <td>0</td>\n      <td>0</td>\n      <td>0</td>\n      <td>0</td>\n      <td>0</td>\n      <td>0</td>\n      <td>0</td>\n    </tr>\n  </tbody>\n</table>\n<p>9742 rows × 23 columns</p>\n</div>"
     },
     "metadata": {},
     "execution_count": 5
    }
   ],
   "source": [
    "movies_df1 = pd.concat([movies_df1, genres_df], axis=1)\n",
    "movies_df1"
   ]
  },
  {
   "cell_type": "markdown",
   "metadata": {},
   "source": [
    "### Extracts the year in the title to a new column"
   ]
  },
  {
   "cell_type": "code",
   "execution_count": 6,
   "metadata": {},
   "outputs": [
    {
     "output_type": "execute_result",
     "data": {
      "text/plain": [
       "      movieId                                      title  \\\n",
       "0           1                           Toy Story (1995)   \n",
       "1           2                             Jumanji (1995)   \n",
       "2           3                    Grumpier Old Men (1995)   \n",
       "3           4                   Waiting to Exhale (1995)   \n",
       "4           5         Father of the Bride Part II (1995)   \n",
       "...       ...                                        ...   \n",
       "9737   193581  Black Butler: Book of the Atlantic (2017)   \n",
       "9738   193583               No Game No Life: Zero (2017)   \n",
       "9739   193585                               Flint (2017)   \n",
       "9740   193587        Bungo Stray Dogs: Dead Apple (2018)   \n",
       "9741   193609        Andrew Dice Clay: Dice Rules (1991)   \n",
       "\n",
       "                                           genres  (no genres listed)  Action  \\\n",
       "0     Adventure|Animation|Children|Comedy|Fantasy                   0       0   \n",
       "1                      Adventure|Children|Fantasy                   0       0   \n",
       "2                                  Comedy|Romance                   0       0   \n",
       "3                            Comedy|Drama|Romance                   0       0   \n",
       "4                                          Comedy                   0       0   \n",
       "...                                           ...                 ...     ...   \n",
       "9737              Action|Animation|Comedy|Fantasy                   0       1   \n",
       "9738                     Animation|Comedy|Fantasy                   0       0   \n",
       "9739                                        Drama                   0       0   \n",
       "9740                             Action|Animation                   0       1   \n",
       "9741                                       Comedy                   0       0   \n",
       "\n",
       "      Adventure  Animation  Children  Comedy  Crime  ...  Horror  IMAX  \\\n",
       "0             1          1         1       1      0  ...       0     0   \n",
       "1             1          0         1       0      0  ...       0     0   \n",
       "2             0          0         0       1      0  ...       0     0   \n",
       "3             0          0         0       1      0  ...       0     0   \n",
       "4             0          0         0       1      0  ...       0     0   \n",
       "...         ...        ...       ...     ...    ...  ...     ...   ...   \n",
       "9737          0          1         0       1      0  ...       0     0   \n",
       "9738          0          1         0       1      0  ...       0     0   \n",
       "9739          0          0         0       0      0  ...       0     0   \n",
       "9740          0          1         0       0      0  ...       0     0   \n",
       "9741          0          0         0       1      0  ...       0     0   \n",
       "\n",
       "      Musical  Mystery  Romance  Sci-Fi  Thriller  War  Western  year  \n",
       "0           0        0        0       0         0    0        0  1995  \n",
       "1           0        0        0       0         0    0        0  1995  \n",
       "2           0        0        1       0         0    0        0  1995  \n",
       "3           0        0        1       0         0    0        0  1995  \n",
       "4           0        0        0       0         0    0        0  1995  \n",
       "...       ...      ...      ...     ...       ...  ...      ...   ...  \n",
       "9737        0        0        0       0         0    0        0  2017  \n",
       "9738        0        0        0       0         0    0        0  2017  \n",
       "9739        0        0        0       0         0    0        0  2017  \n",
       "9740        0        0        0       0         0    0        0  2018  \n",
       "9741        0        0        0       0         0    0        0  1991  \n",
       "\n",
       "[9742 rows x 24 columns]"
      ],
      "text/html": "<div>\n<style scoped>\n    .dataframe tbody tr th:only-of-type {\n        vertical-align: middle;\n    }\n\n    .dataframe tbody tr th {\n        vertical-align: top;\n    }\n\n    .dataframe thead th {\n        text-align: right;\n    }\n</style>\n<table border=\"1\" class=\"dataframe\">\n  <thead>\n    <tr style=\"text-align: right;\">\n      <th></th>\n      <th>movieId</th>\n      <th>title</th>\n      <th>genres</th>\n      <th>(no genres listed)</th>\n      <th>Action</th>\n      <th>Adventure</th>\n      <th>Animation</th>\n      <th>Children</th>\n      <th>Comedy</th>\n      <th>Crime</th>\n      <th>...</th>\n      <th>Horror</th>\n      <th>IMAX</th>\n      <th>Musical</th>\n      <th>Mystery</th>\n      <th>Romance</th>\n      <th>Sci-Fi</th>\n      <th>Thriller</th>\n      <th>War</th>\n      <th>Western</th>\n      <th>year</th>\n    </tr>\n  </thead>\n  <tbody>\n    <tr>\n      <th>0</th>\n      <td>1</td>\n      <td>Toy Story (1995)</td>\n      <td>Adventure|Animation|Children|Comedy|Fantasy</td>\n      <td>0</td>\n      <td>0</td>\n      <td>1</td>\n      <td>1</td>\n      <td>1</td>\n      <td>1</td>\n      <td>0</td>\n      <td>...</td>\n      <td>0</td>\n      <td>0</td>\n      <td>0</td>\n      <td>0</td>\n      <td>0</td>\n      <td>0</td>\n      <td>0</td>\n      <td>0</td>\n      <td>0</td>\n      <td>1995</td>\n    </tr>\n    <tr>\n      <th>1</th>\n      <td>2</td>\n      <td>Jumanji (1995)</td>\n      <td>Adventure|Children|Fantasy</td>\n      <td>0</td>\n      <td>0</td>\n      <td>1</td>\n      <td>0</td>\n      <td>1</td>\n      <td>0</td>\n      <td>0</td>\n      <td>...</td>\n      <td>0</td>\n      <td>0</td>\n      <td>0</td>\n      <td>0</td>\n      <td>0</td>\n      <td>0</td>\n      <td>0</td>\n      <td>0</td>\n      <td>0</td>\n      <td>1995</td>\n    </tr>\n    <tr>\n      <th>2</th>\n      <td>3</td>\n      <td>Grumpier Old Men (1995)</td>\n      <td>Comedy|Romance</td>\n      <td>0</td>\n      <td>0</td>\n      <td>0</td>\n      <td>0</td>\n      <td>0</td>\n      <td>1</td>\n      <td>0</td>\n      <td>...</td>\n      <td>0</td>\n      <td>0</td>\n      <td>0</td>\n      <td>0</td>\n      <td>1</td>\n      <td>0</td>\n      <td>0</td>\n      <td>0</td>\n      <td>0</td>\n      <td>1995</td>\n    </tr>\n    <tr>\n      <th>3</th>\n      <td>4</td>\n      <td>Waiting to Exhale (1995)</td>\n      <td>Comedy|Drama|Romance</td>\n      <td>0</td>\n      <td>0</td>\n      <td>0</td>\n      <td>0</td>\n      <td>0</td>\n      <td>1</td>\n      <td>0</td>\n      <td>...</td>\n      <td>0</td>\n      <td>0</td>\n      <td>0</td>\n      <td>0</td>\n      <td>1</td>\n      <td>0</td>\n      <td>0</td>\n      <td>0</td>\n      <td>0</td>\n      <td>1995</td>\n    </tr>\n    <tr>\n      <th>4</th>\n      <td>5</td>\n      <td>Father of the Bride Part II (1995)</td>\n      <td>Comedy</td>\n      <td>0</td>\n      <td>0</td>\n      <td>0</td>\n      <td>0</td>\n      <td>0</td>\n      <td>1</td>\n      <td>0</td>\n      <td>...</td>\n      <td>0</td>\n      <td>0</td>\n      <td>0</td>\n      <td>0</td>\n      <td>0</td>\n      <td>0</td>\n      <td>0</td>\n      <td>0</td>\n      <td>0</td>\n      <td>1995</td>\n    </tr>\n    <tr>\n      <th>...</th>\n      <td>...</td>\n      <td>...</td>\n      <td>...</td>\n      <td>...</td>\n      <td>...</td>\n      <td>...</td>\n      <td>...</td>\n      <td>...</td>\n      <td>...</td>\n      <td>...</td>\n      <td>...</td>\n      <td>...</td>\n      <td>...</td>\n      <td>...</td>\n      <td>...</td>\n      <td>...</td>\n      <td>...</td>\n      <td>...</td>\n      <td>...</td>\n      <td>...</td>\n      <td>...</td>\n    </tr>\n    <tr>\n      <th>9737</th>\n      <td>193581</td>\n      <td>Black Butler: Book of the Atlantic (2017)</td>\n      <td>Action|Animation|Comedy|Fantasy</td>\n      <td>0</td>\n      <td>1</td>\n      <td>0</td>\n      <td>1</td>\n      <td>0</td>\n      <td>1</td>\n      <td>0</td>\n      <td>...</td>\n      <td>0</td>\n      <td>0</td>\n      <td>0</td>\n      <td>0</td>\n      <td>0</td>\n      <td>0</td>\n      <td>0</td>\n      <td>0</td>\n      <td>0</td>\n      <td>2017</td>\n    </tr>\n    <tr>\n      <th>9738</th>\n      <td>193583</td>\n      <td>No Game No Life: Zero (2017)</td>\n      <td>Animation|Comedy|Fantasy</td>\n      <td>0</td>\n      <td>0</td>\n      <td>0</td>\n      <td>1</td>\n      <td>0</td>\n      <td>1</td>\n      <td>0</td>\n      <td>...</td>\n      <td>0</td>\n      <td>0</td>\n      <td>0</td>\n      <td>0</td>\n      <td>0</td>\n      <td>0</td>\n      <td>0</td>\n      <td>0</td>\n      <td>0</td>\n      <td>2017</td>\n    </tr>\n    <tr>\n      <th>9739</th>\n      <td>193585</td>\n      <td>Flint (2017)</td>\n      <td>Drama</td>\n      <td>0</td>\n      <td>0</td>\n      <td>0</td>\n      <td>0</td>\n      <td>0</td>\n      <td>0</td>\n      <td>0</td>\n      <td>...</td>\n      <td>0</td>\n      <td>0</td>\n      <td>0</td>\n      <td>0</td>\n      <td>0</td>\n      <td>0</td>\n      <td>0</td>\n      <td>0</td>\n      <td>0</td>\n      <td>2017</td>\n    </tr>\n    <tr>\n      <th>9740</th>\n      <td>193587</td>\n      <td>Bungo Stray Dogs: Dead Apple (2018)</td>\n      <td>Action|Animation</td>\n      <td>0</td>\n      <td>1</td>\n      <td>0</td>\n      <td>1</td>\n      <td>0</td>\n      <td>0</td>\n      <td>0</td>\n      <td>...</td>\n      <td>0</td>\n      <td>0</td>\n      <td>0</td>\n      <td>0</td>\n      <td>0</td>\n      <td>0</td>\n      <td>0</td>\n      <td>0</td>\n      <td>0</td>\n      <td>2018</td>\n    </tr>\n    <tr>\n      <th>9741</th>\n      <td>193609</td>\n      <td>Andrew Dice Clay: Dice Rules (1991)</td>\n      <td>Comedy</td>\n      <td>0</td>\n      <td>0</td>\n      <td>0</td>\n      <td>0</td>\n      <td>0</td>\n      <td>1</td>\n      <td>0</td>\n      <td>...</td>\n      <td>0</td>\n      <td>0</td>\n      <td>0</td>\n      <td>0</td>\n      <td>0</td>\n      <td>0</td>\n      <td>0</td>\n      <td>0</td>\n      <td>0</td>\n      <td>1991</td>\n    </tr>\n  </tbody>\n</table>\n<p>9742 rows × 24 columns</p>\n</div>"
     },
     "metadata": {},
     "execution_count": 6
    }
   ],
   "source": [
    "movies_df1['year'] = movies_df1.title.str.extract(r\"\\(([0-9]{4})\\)\")\n",
    "movies_df1"
   ]
  },
  {
   "cell_type": "code",
   "execution_count": 7,
   "metadata": {},
   "outputs": [
    {
     "output_type": "stream",
     "name": "stdout",
     "text": [
      "<class 'pandas.core.frame.DataFrame'>\nRangeIndex: 9742 entries, 0 to 9741\nData columns (total 24 columns):\n #   Column              Non-Null Count  Dtype \n---  ------              --------------  ----- \n 0   movieId             9742 non-null   int64 \n 1   title               9742 non-null   object\n 2   genres              9742 non-null   object\n 3   (no genres listed)  9742 non-null   int64 \n 4   Action              9742 non-null   int64 \n 5   Adventure           9742 non-null   int64 \n 6   Animation           9742 non-null   int64 \n 7   Children            9742 non-null   int64 \n 8   Comedy              9742 non-null   int64 \n 9   Crime               9742 non-null   int64 \n 10  Documentary         9742 non-null   int64 \n 11  Drama               9742 non-null   int64 \n 12  Fantasy             9742 non-null   int64 \n 13  Film-Noir           9742 non-null   int64 \n 14  Horror              9742 non-null   int64 \n 15  IMAX                9742 non-null   int64 \n 16  Musical             9742 non-null   int64 \n 17  Mystery             9742 non-null   int64 \n 18  Romance             9742 non-null   int64 \n 19  Sci-Fi              9742 non-null   int64 \n 20  Thriller            9742 non-null   int64 \n 21  War                 9742 non-null   int64 \n 22  Western             9742 non-null   int64 \n 23  year                9729 non-null   object\ndtypes: int64(21), object(3)\nmemory usage: 1.8+ MB\n"
     ]
    }
   ],
   "source": [
    "movies_df1.info()"
   ]
  },
  {
   "cell_type": "code",
   "execution_count": 8,
   "metadata": {},
   "outputs": [
    {
     "output_type": "execute_result",
     "data": {
      "text/plain": [
       "      movieId                                              title  \\\n",
       "6059    40697                                          Babylon 5   \n",
       "9031   140956                                   Ready Player One   \n",
       "9091   143410                                         Hyena Road   \n",
       "9138   147250  The Adventures of Sherlock Holmes and Doctor W...   \n",
       "9179   149334                                  Nocturnal Animals   \n",
       "9259   156605                                           Paterson   \n",
       "9367   162414                                          Moonlight   \n",
       "9448   167570                                             The OA   \n",
       "9514   171495                                             Cosmos   \n",
       "9515   171631                            Maria Bamford: Old Baby   \n",
       "9518   171749                  Death Note: Desu nôto (2006–2007)   \n",
       "9525   171891                                  Generation Iron 2   \n",
       "9611   176601                                       Black Mirror   \n",
       "\n",
       "                      genres  (no genres listed)  Action  Adventure  \\\n",
       "6059                  Sci-Fi                   0       0          0   \n",
       "9031  Action|Sci-Fi|Thriller                   0       1          0   \n",
       "9091      (no genres listed)                   1       0          0   \n",
       "9138      (no genres listed)                   1       0          0   \n",
       "9179          Drama|Thriller                   0       0          0   \n",
       "9259      (no genres listed)                   1       0          0   \n",
       "9367                   Drama                   0       0          0   \n",
       "9448      (no genres listed)                   1       0          0   \n",
       "9514      (no genres listed)                   1       0          0   \n",
       "9515      (no genres listed)                   1       0          0   \n",
       "9518      (no genres listed)                   1       0          0   \n",
       "9525      (no genres listed)                   1       0          0   \n",
       "9611      (no genres listed)                   1       0          0   \n",
       "\n",
       "      Animation  Children  Comedy  Crime  ...  Horror  IMAX  Musical  Mystery  \\\n",
       "6059          0         0       0      0  ...       0     0        0        0   \n",
       "9031          0         0       0      0  ...       0     0        0        0   \n",
       "9091          0         0       0      0  ...       0     0        0        0   \n",
       "9138          0         0       0      0  ...       0     0        0        0   \n",
       "9179          0         0       0      0  ...       0     0        0        0   \n",
       "9259          0         0       0      0  ...       0     0        0        0   \n",
       "9367          0         0       0      0  ...       0     0        0        0   \n",
       "9448          0         0       0      0  ...       0     0        0        0   \n",
       "9514          0         0       0      0  ...       0     0        0        0   \n",
       "9515          0         0       0      0  ...       0     0        0        0   \n",
       "9518          0         0       0      0  ...       0     0        0        0   \n",
       "9525          0         0       0      0  ...       0     0        0        0   \n",
       "9611          0         0       0      0  ...       0     0        0        0   \n",
       "\n",
       "      Romance  Sci-Fi  Thriller  War  Western  year  \n",
       "6059        0       1         0    0        0   NaN  \n",
       "9031        0       1         1    0        0   NaN  \n",
       "9091        0       0         0    0        0   NaN  \n",
       "9138        0       0         0    0        0   NaN  \n",
       "9179        0       0         1    0        0   NaN  \n",
       "9259        0       0         0    0        0   NaN  \n",
       "9367        0       0         0    0        0   NaN  \n",
       "9448        0       0         0    0        0   NaN  \n",
       "9514        0       0         0    0        0   NaN  \n",
       "9515        0       0         0    0        0   NaN  \n",
       "9518        0       0         0    0        0   NaN  \n",
       "9525        0       0         0    0        0   NaN  \n",
       "9611        0       0         0    0        0   NaN  \n",
       "\n",
       "[13 rows x 24 columns]"
      ],
      "text/html": "<div>\n<style scoped>\n    .dataframe tbody tr th:only-of-type {\n        vertical-align: middle;\n    }\n\n    .dataframe tbody tr th {\n        vertical-align: top;\n    }\n\n    .dataframe thead th {\n        text-align: right;\n    }\n</style>\n<table border=\"1\" class=\"dataframe\">\n  <thead>\n    <tr style=\"text-align: right;\">\n      <th></th>\n      <th>movieId</th>\n      <th>title</th>\n      <th>genres</th>\n      <th>(no genres listed)</th>\n      <th>Action</th>\n      <th>Adventure</th>\n      <th>Animation</th>\n      <th>Children</th>\n      <th>Comedy</th>\n      <th>Crime</th>\n      <th>...</th>\n      <th>Horror</th>\n      <th>IMAX</th>\n      <th>Musical</th>\n      <th>Mystery</th>\n      <th>Romance</th>\n      <th>Sci-Fi</th>\n      <th>Thriller</th>\n      <th>War</th>\n      <th>Western</th>\n      <th>year</th>\n    </tr>\n  </thead>\n  <tbody>\n    <tr>\n      <th>6059</th>\n      <td>40697</td>\n      <td>Babylon 5</td>\n      <td>Sci-Fi</td>\n      <td>0</td>\n      <td>0</td>\n      <td>0</td>\n      <td>0</td>\n      <td>0</td>\n      <td>0</td>\n      <td>0</td>\n      <td>...</td>\n      <td>0</td>\n      <td>0</td>\n      <td>0</td>\n      <td>0</td>\n      <td>0</td>\n      <td>1</td>\n      <td>0</td>\n      <td>0</td>\n      <td>0</td>\n      <td>NaN</td>\n    </tr>\n    <tr>\n      <th>9031</th>\n      <td>140956</td>\n      <td>Ready Player One</td>\n      <td>Action|Sci-Fi|Thriller</td>\n      <td>0</td>\n      <td>1</td>\n      <td>0</td>\n      <td>0</td>\n      <td>0</td>\n      <td>0</td>\n      <td>0</td>\n      <td>...</td>\n      <td>0</td>\n      <td>0</td>\n      <td>0</td>\n      <td>0</td>\n      <td>0</td>\n      <td>1</td>\n      <td>1</td>\n      <td>0</td>\n      <td>0</td>\n      <td>NaN</td>\n    </tr>\n    <tr>\n      <th>9091</th>\n      <td>143410</td>\n      <td>Hyena Road</td>\n      <td>(no genres listed)</td>\n      <td>1</td>\n      <td>0</td>\n      <td>0</td>\n      <td>0</td>\n      <td>0</td>\n      <td>0</td>\n      <td>0</td>\n      <td>...</td>\n      <td>0</td>\n      <td>0</td>\n      <td>0</td>\n      <td>0</td>\n      <td>0</td>\n      <td>0</td>\n      <td>0</td>\n      <td>0</td>\n      <td>0</td>\n      <td>NaN</td>\n    </tr>\n    <tr>\n      <th>9138</th>\n      <td>147250</td>\n      <td>The Adventures of Sherlock Holmes and Doctor W...</td>\n      <td>(no genres listed)</td>\n      <td>1</td>\n      <td>0</td>\n      <td>0</td>\n      <td>0</td>\n      <td>0</td>\n      <td>0</td>\n      <td>0</td>\n      <td>...</td>\n      <td>0</td>\n      <td>0</td>\n      <td>0</td>\n      <td>0</td>\n      <td>0</td>\n      <td>0</td>\n      <td>0</td>\n      <td>0</td>\n      <td>0</td>\n      <td>NaN</td>\n    </tr>\n    <tr>\n      <th>9179</th>\n      <td>149334</td>\n      <td>Nocturnal Animals</td>\n      <td>Drama|Thriller</td>\n      <td>0</td>\n      <td>0</td>\n      <td>0</td>\n      <td>0</td>\n      <td>0</td>\n      <td>0</td>\n      <td>0</td>\n      <td>...</td>\n      <td>0</td>\n      <td>0</td>\n      <td>0</td>\n      <td>0</td>\n      <td>0</td>\n      <td>0</td>\n      <td>1</td>\n      <td>0</td>\n      <td>0</td>\n      <td>NaN</td>\n    </tr>\n    <tr>\n      <th>9259</th>\n      <td>156605</td>\n      <td>Paterson</td>\n      <td>(no genres listed)</td>\n      <td>1</td>\n      <td>0</td>\n      <td>0</td>\n      <td>0</td>\n      <td>0</td>\n      <td>0</td>\n      <td>0</td>\n      <td>...</td>\n      <td>0</td>\n      <td>0</td>\n      <td>0</td>\n      <td>0</td>\n      <td>0</td>\n      <td>0</td>\n      <td>0</td>\n      <td>0</td>\n      <td>0</td>\n      <td>NaN</td>\n    </tr>\n    <tr>\n      <th>9367</th>\n      <td>162414</td>\n      <td>Moonlight</td>\n      <td>Drama</td>\n      <td>0</td>\n      <td>0</td>\n      <td>0</td>\n      <td>0</td>\n      <td>0</td>\n      <td>0</td>\n      <td>0</td>\n      <td>...</td>\n      <td>0</td>\n      <td>0</td>\n      <td>0</td>\n      <td>0</td>\n      <td>0</td>\n      <td>0</td>\n      <td>0</td>\n      <td>0</td>\n      <td>0</td>\n      <td>NaN</td>\n    </tr>\n    <tr>\n      <th>9448</th>\n      <td>167570</td>\n      <td>The OA</td>\n      <td>(no genres listed)</td>\n      <td>1</td>\n      <td>0</td>\n      <td>0</td>\n      <td>0</td>\n      <td>0</td>\n      <td>0</td>\n      <td>0</td>\n      <td>...</td>\n      <td>0</td>\n      <td>0</td>\n      <td>0</td>\n      <td>0</td>\n      <td>0</td>\n      <td>0</td>\n      <td>0</td>\n      <td>0</td>\n      <td>0</td>\n      <td>NaN</td>\n    </tr>\n    <tr>\n      <th>9514</th>\n      <td>171495</td>\n      <td>Cosmos</td>\n      <td>(no genres listed)</td>\n      <td>1</td>\n      <td>0</td>\n      <td>0</td>\n      <td>0</td>\n      <td>0</td>\n      <td>0</td>\n      <td>0</td>\n      <td>...</td>\n      <td>0</td>\n      <td>0</td>\n      <td>0</td>\n      <td>0</td>\n      <td>0</td>\n      <td>0</td>\n      <td>0</td>\n      <td>0</td>\n      <td>0</td>\n      <td>NaN</td>\n    </tr>\n    <tr>\n      <th>9515</th>\n      <td>171631</td>\n      <td>Maria Bamford: Old Baby</td>\n      <td>(no genres listed)</td>\n      <td>1</td>\n      <td>0</td>\n      <td>0</td>\n      <td>0</td>\n      <td>0</td>\n      <td>0</td>\n      <td>0</td>\n      <td>...</td>\n      <td>0</td>\n      <td>0</td>\n      <td>0</td>\n      <td>0</td>\n      <td>0</td>\n      <td>0</td>\n      <td>0</td>\n      <td>0</td>\n      <td>0</td>\n      <td>NaN</td>\n    </tr>\n    <tr>\n      <th>9518</th>\n      <td>171749</td>\n      <td>Death Note: Desu nôto (2006–2007)</td>\n      <td>(no genres listed)</td>\n      <td>1</td>\n      <td>0</td>\n      <td>0</td>\n      <td>0</td>\n      <td>0</td>\n      <td>0</td>\n      <td>0</td>\n      <td>...</td>\n      <td>0</td>\n      <td>0</td>\n      <td>0</td>\n      <td>0</td>\n      <td>0</td>\n      <td>0</td>\n      <td>0</td>\n      <td>0</td>\n      <td>0</td>\n      <td>NaN</td>\n    </tr>\n    <tr>\n      <th>9525</th>\n      <td>171891</td>\n      <td>Generation Iron 2</td>\n      <td>(no genres listed)</td>\n      <td>1</td>\n      <td>0</td>\n      <td>0</td>\n      <td>0</td>\n      <td>0</td>\n      <td>0</td>\n      <td>0</td>\n      <td>...</td>\n      <td>0</td>\n      <td>0</td>\n      <td>0</td>\n      <td>0</td>\n      <td>0</td>\n      <td>0</td>\n      <td>0</td>\n      <td>0</td>\n      <td>0</td>\n      <td>NaN</td>\n    </tr>\n    <tr>\n      <th>9611</th>\n      <td>176601</td>\n      <td>Black Mirror</td>\n      <td>(no genres listed)</td>\n      <td>1</td>\n      <td>0</td>\n      <td>0</td>\n      <td>0</td>\n      <td>0</td>\n      <td>0</td>\n      <td>0</td>\n      <td>...</td>\n      <td>0</td>\n      <td>0</td>\n      <td>0</td>\n      <td>0</td>\n      <td>0</td>\n      <td>0</td>\n      <td>0</td>\n      <td>0</td>\n      <td>0</td>\n      <td>NaN</td>\n    </tr>\n  </tbody>\n</table>\n<p>13 rows × 24 columns</p>\n</div>"
     },
     "metadata": {},
     "execution_count": 8
    }
   ],
   "source": [
    "movies_df1[movies_df1['year'].isna()]"
   ]
  },
  {
   "cell_type": "code",
   "execution_count": 9,
   "metadata": {},
   "outputs": [
    {
     "output_type": "stream",
     "name": "stdout",
     "text": [
      "<class 'pandas.core.frame.DataFrame'>\nInt64Index: 9729 entries, 0 to 9741\nData columns (total 24 columns):\n #   Column              Non-Null Count  Dtype \n---  ------              --------------  ----- \n 0   movieId             9729 non-null   int64 \n 1   title               9729 non-null   object\n 2   genres              9729 non-null   object\n 3   (no genres listed)  9729 non-null   int64 \n 4   Action              9729 non-null   int64 \n 5   Adventure           9729 non-null   int64 \n 6   Animation           9729 non-null   int64 \n 7   Children            9729 non-null   int64 \n 8   Comedy              9729 non-null   int64 \n 9   Crime               9729 non-null   int64 \n 10  Documentary         9729 non-null   int64 \n 11  Drama               9729 non-null   int64 \n 12  Fantasy             9729 non-null   int64 \n 13  Film-Noir           9729 non-null   int64 \n 14  Horror              9729 non-null   int64 \n 15  IMAX                9729 non-null   int64 \n 16  Musical             9729 non-null   int64 \n 17  Mystery             9729 non-null   int64 \n 18  Romance             9729 non-null   int64 \n 19  Sci-Fi              9729 non-null   int64 \n 20  Thriller            9729 non-null   int64 \n 21  War                 9729 non-null   int64 \n 22  Western             9729 non-null   int64 \n 23  year                9729 non-null   object\ndtypes: int64(21), object(3)\nmemory usage: 1.9+ MB\n"
     ]
    }
   ],
   "source": [
    "movies_df1 = movies_df1.dropna()\n",
    "movies_df1.info()"
   ]
  },
  {
   "cell_type": "code",
   "execution_count": 10,
   "metadata": {},
   "outputs": [
    {
     "output_type": "execute_result",
     "data": {
      "text/plain": [
       "movieId                int64\n",
       "title                 object\n",
       "genres                object\n",
       "(no genres listed)     int64\n",
       "Action                 int64\n",
       "Adventure              int64\n",
       "Animation              int64\n",
       "Children               int64\n",
       "Comedy                 int64\n",
       "Crime                  int64\n",
       "Documentary            int64\n",
       "Drama                  int64\n",
       "Fantasy                int64\n",
       "Film-Noir              int64\n",
       "Horror                 int64\n",
       "IMAX                   int64\n",
       "Musical                int64\n",
       "Mystery                int64\n",
       "Romance                int64\n",
       "Sci-Fi                 int64\n",
       "Thriller               int64\n",
       "War                    int64\n",
       "Western                int64\n",
       "year                   int64\n",
       "dtype: object"
      ]
     },
     "metadata": {},
     "execution_count": 10
    }
   ],
   "source": [
    "movies_df1 = movies_df1.astype({'year': 'int64'})\n",
    "movies_df1.dtypes"
   ]
  },
  {
   "cell_type": "code",
   "execution_count": 11,
   "metadata": {},
   "outputs": [
    {
     "output_type": "execute_result",
     "data": {
      "text/plain": [
       "      movieId                                      title  \\\n",
       "0           1                           Toy Story (1995)   \n",
       "1           2                             Jumanji (1995)   \n",
       "2           3                    Grumpier Old Men (1995)   \n",
       "3           4                   Waiting to Exhale (1995)   \n",
       "4           5         Father of the Bride Part II (1995)   \n",
       "...       ...                                        ...   \n",
       "9737   193581  Black Butler: Book of the Atlantic (2017)   \n",
       "9738   193583               No Game No Life: Zero (2017)   \n",
       "9739   193585                               Flint (2017)   \n",
       "9740   193587        Bungo Stray Dogs: Dead Apple (2018)   \n",
       "9741   193609        Andrew Dice Clay: Dice Rules (1991)   \n",
       "\n",
       "                                           genres  (no genres listed)  Action  \\\n",
       "0     Adventure|Animation|Children|Comedy|Fantasy                   0       0   \n",
       "1                      Adventure|Children|Fantasy                   0       0   \n",
       "2                                  Comedy|Romance                   0       0   \n",
       "3                            Comedy|Drama|Romance                   0       0   \n",
       "4                                          Comedy                   0       0   \n",
       "...                                           ...                 ...     ...   \n",
       "9737              Action|Animation|Comedy|Fantasy                   0       1   \n",
       "9738                     Animation|Comedy|Fantasy                   0       0   \n",
       "9739                                        Drama                   0       0   \n",
       "9740                             Action|Animation                   0       1   \n",
       "9741                                       Comedy                   0       0   \n",
       "\n",
       "      Adventure  Animation  Children  Comedy  Crime  ...  Horror  IMAX  \\\n",
       "0             1          1         1       1      0  ...       0     0   \n",
       "1             1          0         1       0      0  ...       0     0   \n",
       "2             0          0         0       1      0  ...       0     0   \n",
       "3             0          0         0       1      0  ...       0     0   \n",
       "4             0          0         0       1      0  ...       0     0   \n",
       "...         ...        ...       ...     ...    ...  ...     ...   ...   \n",
       "9737          0          1         0       1      0  ...       0     0   \n",
       "9738          0          1         0       1      0  ...       0     0   \n",
       "9739          0          0         0       0      0  ...       0     0   \n",
       "9740          0          1         0       0      0  ...       0     0   \n",
       "9741          0          0         0       1      0  ...       0     0   \n",
       "\n",
       "      Musical  Mystery  Romance  Sci-Fi  Thriller  War  Western  year  \n",
       "0           0        0        0       0         0    0        0  1995  \n",
       "1           0        0        0       0         0    0        0  1995  \n",
       "2           0        0        1       0         0    0        0  1995  \n",
       "3           0        0        1       0         0    0        0  1995  \n",
       "4           0        0        0       0         0    0        0  1995  \n",
       "...       ...      ...      ...     ...       ...  ...      ...   ...  \n",
       "9737        0        0        0       0         0    0        0  2017  \n",
       "9738        0        0        0       0         0    0        0  2017  \n",
       "9739        0        0        0       0         0    0        0  2017  \n",
       "9740        0        0        0       0         0    0        0  2018  \n",
       "9741        0        0        0       0         0    0        0  1991  \n",
       "\n",
       "[9729 rows x 24 columns]"
      ],
      "text/html": "<div>\n<style scoped>\n    .dataframe tbody tr th:only-of-type {\n        vertical-align: middle;\n    }\n\n    .dataframe tbody tr th {\n        vertical-align: top;\n    }\n\n    .dataframe thead th {\n        text-align: right;\n    }\n</style>\n<table border=\"1\" class=\"dataframe\">\n  <thead>\n    <tr style=\"text-align: right;\">\n      <th></th>\n      <th>movieId</th>\n      <th>title</th>\n      <th>genres</th>\n      <th>(no genres listed)</th>\n      <th>Action</th>\n      <th>Adventure</th>\n      <th>Animation</th>\n      <th>Children</th>\n      <th>Comedy</th>\n      <th>Crime</th>\n      <th>...</th>\n      <th>Horror</th>\n      <th>IMAX</th>\n      <th>Musical</th>\n      <th>Mystery</th>\n      <th>Romance</th>\n      <th>Sci-Fi</th>\n      <th>Thriller</th>\n      <th>War</th>\n      <th>Western</th>\n      <th>year</th>\n    </tr>\n  </thead>\n  <tbody>\n    <tr>\n      <th>0</th>\n      <td>1</td>\n      <td>Toy Story (1995)</td>\n      <td>Adventure|Animation|Children|Comedy|Fantasy</td>\n      <td>0</td>\n      <td>0</td>\n      <td>1</td>\n      <td>1</td>\n      <td>1</td>\n      <td>1</td>\n      <td>0</td>\n      <td>...</td>\n      <td>0</td>\n      <td>0</td>\n      <td>0</td>\n      <td>0</td>\n      <td>0</td>\n      <td>0</td>\n      <td>0</td>\n      <td>0</td>\n      <td>0</td>\n      <td>1995</td>\n    </tr>\n    <tr>\n      <th>1</th>\n      <td>2</td>\n      <td>Jumanji (1995)</td>\n      <td>Adventure|Children|Fantasy</td>\n      <td>0</td>\n      <td>0</td>\n      <td>1</td>\n      <td>0</td>\n      <td>1</td>\n      <td>0</td>\n      <td>0</td>\n      <td>...</td>\n      <td>0</td>\n      <td>0</td>\n      <td>0</td>\n      <td>0</td>\n      <td>0</td>\n      <td>0</td>\n      <td>0</td>\n      <td>0</td>\n      <td>0</td>\n      <td>1995</td>\n    </tr>\n    <tr>\n      <th>2</th>\n      <td>3</td>\n      <td>Grumpier Old Men (1995)</td>\n      <td>Comedy|Romance</td>\n      <td>0</td>\n      <td>0</td>\n      <td>0</td>\n      <td>0</td>\n      <td>0</td>\n      <td>1</td>\n      <td>0</td>\n      <td>...</td>\n      <td>0</td>\n      <td>0</td>\n      <td>0</td>\n      <td>0</td>\n      <td>1</td>\n      <td>0</td>\n      <td>0</td>\n      <td>0</td>\n      <td>0</td>\n      <td>1995</td>\n    </tr>\n    <tr>\n      <th>3</th>\n      <td>4</td>\n      <td>Waiting to Exhale (1995)</td>\n      <td>Comedy|Drama|Romance</td>\n      <td>0</td>\n      <td>0</td>\n      <td>0</td>\n      <td>0</td>\n      <td>0</td>\n      <td>1</td>\n      <td>0</td>\n      <td>...</td>\n      <td>0</td>\n      <td>0</td>\n      <td>0</td>\n      <td>0</td>\n      <td>1</td>\n      <td>0</td>\n      <td>0</td>\n      <td>0</td>\n      <td>0</td>\n      <td>1995</td>\n    </tr>\n    <tr>\n      <th>4</th>\n      <td>5</td>\n      <td>Father of the Bride Part II (1995)</td>\n      <td>Comedy</td>\n      <td>0</td>\n      <td>0</td>\n      <td>0</td>\n      <td>0</td>\n      <td>0</td>\n      <td>1</td>\n      <td>0</td>\n      <td>...</td>\n      <td>0</td>\n      <td>0</td>\n      <td>0</td>\n      <td>0</td>\n      <td>0</td>\n      <td>0</td>\n      <td>0</td>\n      <td>0</td>\n      <td>0</td>\n      <td>1995</td>\n    </tr>\n    <tr>\n      <th>...</th>\n      <td>...</td>\n      <td>...</td>\n      <td>...</td>\n      <td>...</td>\n      <td>...</td>\n      <td>...</td>\n      <td>...</td>\n      <td>...</td>\n      <td>...</td>\n      <td>...</td>\n      <td>...</td>\n      <td>...</td>\n      <td>...</td>\n      <td>...</td>\n      <td>...</td>\n      <td>...</td>\n      <td>...</td>\n      <td>...</td>\n      <td>...</td>\n      <td>...</td>\n      <td>...</td>\n    </tr>\n    <tr>\n      <th>9737</th>\n      <td>193581</td>\n      <td>Black Butler: Book of the Atlantic (2017)</td>\n      <td>Action|Animation|Comedy|Fantasy</td>\n      <td>0</td>\n      <td>1</td>\n      <td>0</td>\n      <td>1</td>\n      <td>0</td>\n      <td>1</td>\n      <td>0</td>\n      <td>...</td>\n      <td>0</td>\n      <td>0</td>\n      <td>0</td>\n      <td>0</td>\n      <td>0</td>\n      <td>0</td>\n      <td>0</td>\n      <td>0</td>\n      <td>0</td>\n      <td>2017</td>\n    </tr>\n    <tr>\n      <th>9738</th>\n      <td>193583</td>\n      <td>No Game No Life: Zero (2017)</td>\n      <td>Animation|Comedy|Fantasy</td>\n      <td>0</td>\n      <td>0</td>\n      <td>0</td>\n      <td>1</td>\n      <td>0</td>\n      <td>1</td>\n      <td>0</td>\n      <td>...</td>\n      <td>0</td>\n      <td>0</td>\n      <td>0</td>\n      <td>0</td>\n      <td>0</td>\n      <td>0</td>\n      <td>0</td>\n      <td>0</td>\n      <td>0</td>\n      <td>2017</td>\n    </tr>\n    <tr>\n      <th>9739</th>\n      <td>193585</td>\n      <td>Flint (2017)</td>\n      <td>Drama</td>\n      <td>0</td>\n      <td>0</td>\n      <td>0</td>\n      <td>0</td>\n      <td>0</td>\n      <td>0</td>\n      <td>0</td>\n      <td>...</td>\n      <td>0</td>\n      <td>0</td>\n      <td>0</td>\n      <td>0</td>\n      <td>0</td>\n      <td>0</td>\n      <td>0</td>\n      <td>0</td>\n      <td>0</td>\n      <td>2017</td>\n    </tr>\n    <tr>\n      <th>9740</th>\n      <td>193587</td>\n      <td>Bungo Stray Dogs: Dead Apple (2018)</td>\n      <td>Action|Animation</td>\n      <td>0</td>\n      <td>1</td>\n      <td>0</td>\n      <td>1</td>\n      <td>0</td>\n      <td>0</td>\n      <td>0</td>\n      <td>...</td>\n      <td>0</td>\n      <td>0</td>\n      <td>0</td>\n      <td>0</td>\n      <td>0</td>\n      <td>0</td>\n      <td>0</td>\n      <td>0</td>\n      <td>0</td>\n      <td>2018</td>\n    </tr>\n    <tr>\n      <th>9741</th>\n      <td>193609</td>\n      <td>Andrew Dice Clay: Dice Rules (1991)</td>\n      <td>Comedy</td>\n      <td>0</td>\n      <td>0</td>\n      <td>0</td>\n      <td>0</td>\n      <td>0</td>\n      <td>1</td>\n      <td>0</td>\n      <td>...</td>\n      <td>0</td>\n      <td>0</td>\n      <td>0</td>\n      <td>0</td>\n      <td>0</td>\n      <td>0</td>\n      <td>0</td>\n      <td>0</td>\n      <td>0</td>\n      <td>1991</td>\n    </tr>\n  </tbody>\n</table>\n<p>9729 rows × 24 columns</p>\n</div>"
     },
     "metadata": {},
     "execution_count": 11
    }
   ],
   "source": [
    "movies_df1"
   ]
  },
  {
   "cell_type": "markdown",
   "metadata": {},
   "source": [
    "### Removes year in the title"
   ]
  },
  {
   "cell_type": "code",
   "execution_count": 12,
   "metadata": {},
   "outputs": [
    {
     "output_type": "execute_result",
     "data": {
      "text/plain": [
       "      movieId                               title  \\\n",
       "0           1                           Toy Story   \n",
       "1           2                             Jumanji   \n",
       "2           3                    Grumpier Old Men   \n",
       "3           4                   Waiting to Exhale   \n",
       "4           5         Father of the Bride Part II   \n",
       "...       ...                                 ...   \n",
       "9737   193581  Black Butler: Book of the Atlantic   \n",
       "9738   193583               No Game No Life: Zero   \n",
       "9739   193585                               Flint   \n",
       "9740   193587        Bungo Stray Dogs: Dead Apple   \n",
       "9741   193609        Andrew Dice Clay: Dice Rules   \n",
       "\n",
       "                                           genres  (no genres listed)  Action  \\\n",
       "0     Adventure|Animation|Children|Comedy|Fantasy                   0       0   \n",
       "1                      Adventure|Children|Fantasy                   0       0   \n",
       "2                                  Comedy|Romance                   0       0   \n",
       "3                            Comedy|Drama|Romance                   0       0   \n",
       "4                                          Comedy                   0       0   \n",
       "...                                           ...                 ...     ...   \n",
       "9737              Action|Animation|Comedy|Fantasy                   0       1   \n",
       "9738                     Animation|Comedy|Fantasy                   0       0   \n",
       "9739                                        Drama                   0       0   \n",
       "9740                             Action|Animation                   0       1   \n",
       "9741                                       Comedy                   0       0   \n",
       "\n",
       "      Adventure  Animation  Children  Comedy  Crime  ...  Horror  IMAX  \\\n",
       "0             1          1         1       1      0  ...       0     0   \n",
       "1             1          0         1       0      0  ...       0     0   \n",
       "2             0          0         0       1      0  ...       0     0   \n",
       "3             0          0         0       1      0  ...       0     0   \n",
       "4             0          0         0       1      0  ...       0     0   \n",
       "...         ...        ...       ...     ...    ...  ...     ...   ...   \n",
       "9737          0          1         0       1      0  ...       0     0   \n",
       "9738          0          1         0       1      0  ...       0     0   \n",
       "9739          0          0         0       0      0  ...       0     0   \n",
       "9740          0          1         0       0      0  ...       0     0   \n",
       "9741          0          0         0       1      0  ...       0     0   \n",
       "\n",
       "      Musical  Mystery  Romance  Sci-Fi  Thriller  War  Western  year  \n",
       "0           0        0        0       0         0    0        0  1995  \n",
       "1           0        0        0       0         0    0        0  1995  \n",
       "2           0        0        1       0         0    0        0  1995  \n",
       "3           0        0        1       0         0    0        0  1995  \n",
       "4           0        0        0       0         0    0        0  1995  \n",
       "...       ...      ...      ...     ...       ...  ...      ...   ...  \n",
       "9737        0        0        0       0         0    0        0  2017  \n",
       "9738        0        0        0       0         0    0        0  2017  \n",
       "9739        0        0        0       0         0    0        0  2017  \n",
       "9740        0        0        0       0         0    0        0  2018  \n",
       "9741        0        0        0       0         0    0        0  1991  \n",
       "\n",
       "[9729 rows x 24 columns]"
      ],
      "text/html": "<div>\n<style scoped>\n    .dataframe tbody tr th:only-of-type {\n        vertical-align: middle;\n    }\n\n    .dataframe tbody tr th {\n        vertical-align: top;\n    }\n\n    .dataframe thead th {\n        text-align: right;\n    }\n</style>\n<table border=\"1\" class=\"dataframe\">\n  <thead>\n    <tr style=\"text-align: right;\">\n      <th></th>\n      <th>movieId</th>\n      <th>title</th>\n      <th>genres</th>\n      <th>(no genres listed)</th>\n      <th>Action</th>\n      <th>Adventure</th>\n      <th>Animation</th>\n      <th>Children</th>\n      <th>Comedy</th>\n      <th>Crime</th>\n      <th>...</th>\n      <th>Horror</th>\n      <th>IMAX</th>\n      <th>Musical</th>\n      <th>Mystery</th>\n      <th>Romance</th>\n      <th>Sci-Fi</th>\n      <th>Thriller</th>\n      <th>War</th>\n      <th>Western</th>\n      <th>year</th>\n    </tr>\n  </thead>\n  <tbody>\n    <tr>\n      <th>0</th>\n      <td>1</td>\n      <td>Toy Story</td>\n      <td>Adventure|Animation|Children|Comedy|Fantasy</td>\n      <td>0</td>\n      <td>0</td>\n      <td>1</td>\n      <td>1</td>\n      <td>1</td>\n      <td>1</td>\n      <td>0</td>\n      <td>...</td>\n      <td>0</td>\n      <td>0</td>\n      <td>0</td>\n      <td>0</td>\n      <td>0</td>\n      <td>0</td>\n      <td>0</td>\n      <td>0</td>\n      <td>0</td>\n      <td>1995</td>\n    </tr>\n    <tr>\n      <th>1</th>\n      <td>2</td>\n      <td>Jumanji</td>\n      <td>Adventure|Children|Fantasy</td>\n      <td>0</td>\n      <td>0</td>\n      <td>1</td>\n      <td>0</td>\n      <td>1</td>\n      <td>0</td>\n      <td>0</td>\n      <td>...</td>\n      <td>0</td>\n      <td>0</td>\n      <td>0</td>\n      <td>0</td>\n      <td>0</td>\n      <td>0</td>\n      <td>0</td>\n      <td>0</td>\n      <td>0</td>\n      <td>1995</td>\n    </tr>\n    <tr>\n      <th>2</th>\n      <td>3</td>\n      <td>Grumpier Old Men</td>\n      <td>Comedy|Romance</td>\n      <td>0</td>\n      <td>0</td>\n      <td>0</td>\n      <td>0</td>\n      <td>0</td>\n      <td>1</td>\n      <td>0</td>\n      <td>...</td>\n      <td>0</td>\n      <td>0</td>\n      <td>0</td>\n      <td>0</td>\n      <td>1</td>\n      <td>0</td>\n      <td>0</td>\n      <td>0</td>\n      <td>0</td>\n      <td>1995</td>\n    </tr>\n    <tr>\n      <th>3</th>\n      <td>4</td>\n      <td>Waiting to Exhale</td>\n      <td>Comedy|Drama|Romance</td>\n      <td>0</td>\n      <td>0</td>\n      <td>0</td>\n      <td>0</td>\n      <td>0</td>\n      <td>1</td>\n      <td>0</td>\n      <td>...</td>\n      <td>0</td>\n      <td>0</td>\n      <td>0</td>\n      <td>0</td>\n      <td>1</td>\n      <td>0</td>\n      <td>0</td>\n      <td>0</td>\n      <td>0</td>\n      <td>1995</td>\n    </tr>\n    <tr>\n      <th>4</th>\n      <td>5</td>\n      <td>Father of the Bride Part II</td>\n      <td>Comedy</td>\n      <td>0</td>\n      <td>0</td>\n      <td>0</td>\n      <td>0</td>\n      <td>0</td>\n      <td>1</td>\n      <td>0</td>\n      <td>...</td>\n      <td>0</td>\n      <td>0</td>\n      <td>0</td>\n      <td>0</td>\n      <td>0</td>\n      <td>0</td>\n      <td>0</td>\n      <td>0</td>\n      <td>0</td>\n      <td>1995</td>\n    </tr>\n    <tr>\n      <th>...</th>\n      <td>...</td>\n      <td>...</td>\n      <td>...</td>\n      <td>...</td>\n      <td>...</td>\n      <td>...</td>\n      <td>...</td>\n      <td>...</td>\n      <td>...</td>\n      <td>...</td>\n      <td>...</td>\n      <td>...</td>\n      <td>...</td>\n      <td>...</td>\n      <td>...</td>\n      <td>...</td>\n      <td>...</td>\n      <td>...</td>\n      <td>...</td>\n      <td>...</td>\n      <td>...</td>\n    </tr>\n    <tr>\n      <th>9737</th>\n      <td>193581</td>\n      <td>Black Butler: Book of the Atlantic</td>\n      <td>Action|Animation|Comedy|Fantasy</td>\n      <td>0</td>\n      <td>1</td>\n      <td>0</td>\n      <td>1</td>\n      <td>0</td>\n      <td>1</td>\n      <td>0</td>\n      <td>...</td>\n      <td>0</td>\n      <td>0</td>\n      <td>0</td>\n      <td>0</td>\n      <td>0</td>\n      <td>0</td>\n      <td>0</td>\n      <td>0</td>\n      <td>0</td>\n      <td>2017</td>\n    </tr>\n    <tr>\n      <th>9738</th>\n      <td>193583</td>\n      <td>No Game No Life: Zero</td>\n      <td>Animation|Comedy|Fantasy</td>\n      <td>0</td>\n      <td>0</td>\n      <td>0</td>\n      <td>1</td>\n      <td>0</td>\n      <td>1</td>\n      <td>0</td>\n      <td>...</td>\n      <td>0</td>\n      <td>0</td>\n      <td>0</td>\n      <td>0</td>\n      <td>0</td>\n      <td>0</td>\n      <td>0</td>\n      <td>0</td>\n      <td>0</td>\n      <td>2017</td>\n    </tr>\n    <tr>\n      <th>9739</th>\n      <td>193585</td>\n      <td>Flint</td>\n      <td>Drama</td>\n      <td>0</td>\n      <td>0</td>\n      <td>0</td>\n      <td>0</td>\n      <td>0</td>\n      <td>0</td>\n      <td>0</td>\n      <td>...</td>\n      <td>0</td>\n      <td>0</td>\n      <td>0</td>\n      <td>0</td>\n      <td>0</td>\n      <td>0</td>\n      <td>0</td>\n      <td>0</td>\n      <td>0</td>\n      <td>2017</td>\n    </tr>\n    <tr>\n      <th>9740</th>\n      <td>193587</td>\n      <td>Bungo Stray Dogs: Dead Apple</td>\n      <td>Action|Animation</td>\n      <td>0</td>\n      <td>1</td>\n      <td>0</td>\n      <td>1</td>\n      <td>0</td>\n      <td>0</td>\n      <td>0</td>\n      <td>...</td>\n      <td>0</td>\n      <td>0</td>\n      <td>0</td>\n      <td>0</td>\n      <td>0</td>\n      <td>0</td>\n      <td>0</td>\n      <td>0</td>\n      <td>0</td>\n      <td>2018</td>\n    </tr>\n    <tr>\n      <th>9741</th>\n      <td>193609</td>\n      <td>Andrew Dice Clay: Dice Rules</td>\n      <td>Comedy</td>\n      <td>0</td>\n      <td>0</td>\n      <td>0</td>\n      <td>0</td>\n      <td>0</td>\n      <td>1</td>\n      <td>0</td>\n      <td>...</td>\n      <td>0</td>\n      <td>0</td>\n      <td>0</td>\n      <td>0</td>\n      <td>0</td>\n      <td>0</td>\n      <td>0</td>\n      <td>0</td>\n      <td>0</td>\n      <td>1991</td>\n    </tr>\n  </tbody>\n</table>\n<p>9729 rows × 24 columns</p>\n</div>"
     },
     "metadata": {},
     "execution_count": 12
    }
   ],
   "source": [
    "movies_df1['title'] = movies_df1['title'].str[:-7]\n",
    "movies_df1"
   ]
  },
  {
   "cell_type": "markdown",
   "metadata": {},
   "source": [
    "### Reorder and rename column names"
   ]
  },
  {
   "cell_type": "code",
   "execution_count": 13,
   "metadata": {},
   "outputs": [
    {
     "output_type": "execute_result",
     "data": {
      "text/plain": [
       "      movieId                               title  \\\n",
       "0           1                           Toy Story   \n",
       "1           2                             Jumanji   \n",
       "2           3                    Grumpier Old Men   \n",
       "3           4                   Waiting to Exhale   \n",
       "4           5         Father of the Bride Part II   \n",
       "...       ...                                 ...   \n",
       "9737   193581  Black Butler: Book of the Atlantic   \n",
       "9738   193583               No Game No Life: Zero   \n",
       "9739   193585                               Flint   \n",
       "9740   193587        Bungo Stray Dogs: Dead Apple   \n",
       "9741   193609        Andrew Dice Clay: Dice Rules   \n",
       "\n",
       "                                           genres  No Genre  Action  \\\n",
       "0     Adventure|Animation|Children|Comedy|Fantasy         0       0   \n",
       "1                      Adventure|Children|Fantasy         0       0   \n",
       "2                                  Comedy|Romance         0       0   \n",
       "3                            Comedy|Drama|Romance         0       0   \n",
       "4                                          Comedy         0       0   \n",
       "...                                           ...       ...     ...   \n",
       "9737              Action|Animation|Comedy|Fantasy         0       1   \n",
       "9738                     Animation|Comedy|Fantasy         0       0   \n",
       "9739                                        Drama         0       0   \n",
       "9740                             Action|Animation         0       1   \n",
       "9741                                       Comedy         0       0   \n",
       "\n",
       "      Adventure  Animation  Children  Comedy  Crime  ...  Horror  IMAX  \\\n",
       "0             1          1         1       1      0  ...       0     0   \n",
       "1             1          0         1       0      0  ...       0     0   \n",
       "2             0          0         0       1      0  ...       0     0   \n",
       "3             0          0         0       1      0  ...       0     0   \n",
       "4             0          0         0       1      0  ...       0     0   \n",
       "...         ...        ...       ...     ...    ...  ...     ...   ...   \n",
       "9737          0          1         0       1      0  ...       0     0   \n",
       "9738          0          1         0       1      0  ...       0     0   \n",
       "9739          0          0         0       0      0  ...       0     0   \n",
       "9740          0          1         0       0      0  ...       0     0   \n",
       "9741          0          0         0       1      0  ...       0     0   \n",
       "\n",
       "      Musical  Mystery  Romance  Sci-Fi  Thriller  War  Western  year  \n",
       "0           0        0        0       0         0    0        0  1995  \n",
       "1           0        0        0       0         0    0        0  1995  \n",
       "2           0        0        1       0         0    0        0  1995  \n",
       "3           0        0        1       0         0    0        0  1995  \n",
       "4           0        0        0       0         0    0        0  1995  \n",
       "...       ...      ...      ...     ...       ...  ...      ...   ...  \n",
       "9737        0        0        0       0         0    0        0  2017  \n",
       "9738        0        0        0       0         0    0        0  2017  \n",
       "9739        0        0        0       0         0    0        0  2017  \n",
       "9740        0        0        0       0         0    0        0  2018  \n",
       "9741        0        0        0       0         0    0        0  1991  \n",
       "\n",
       "[9729 rows x 24 columns]"
      ],
      "text/html": "<div>\n<style scoped>\n    .dataframe tbody tr th:only-of-type {\n        vertical-align: middle;\n    }\n\n    .dataframe tbody tr th {\n        vertical-align: top;\n    }\n\n    .dataframe thead th {\n        text-align: right;\n    }\n</style>\n<table border=\"1\" class=\"dataframe\">\n  <thead>\n    <tr style=\"text-align: right;\">\n      <th></th>\n      <th>movieId</th>\n      <th>title</th>\n      <th>genres</th>\n      <th>No Genre</th>\n      <th>Action</th>\n      <th>Adventure</th>\n      <th>Animation</th>\n      <th>Children</th>\n      <th>Comedy</th>\n      <th>Crime</th>\n      <th>...</th>\n      <th>Horror</th>\n      <th>IMAX</th>\n      <th>Musical</th>\n      <th>Mystery</th>\n      <th>Romance</th>\n      <th>Sci-Fi</th>\n      <th>Thriller</th>\n      <th>War</th>\n      <th>Western</th>\n      <th>year</th>\n    </tr>\n  </thead>\n  <tbody>\n    <tr>\n      <th>0</th>\n      <td>1</td>\n      <td>Toy Story</td>\n      <td>Adventure|Animation|Children|Comedy|Fantasy</td>\n      <td>0</td>\n      <td>0</td>\n      <td>1</td>\n      <td>1</td>\n      <td>1</td>\n      <td>1</td>\n      <td>0</td>\n      <td>...</td>\n      <td>0</td>\n      <td>0</td>\n      <td>0</td>\n      <td>0</td>\n      <td>0</td>\n      <td>0</td>\n      <td>0</td>\n      <td>0</td>\n      <td>0</td>\n      <td>1995</td>\n    </tr>\n    <tr>\n      <th>1</th>\n      <td>2</td>\n      <td>Jumanji</td>\n      <td>Adventure|Children|Fantasy</td>\n      <td>0</td>\n      <td>0</td>\n      <td>1</td>\n      <td>0</td>\n      <td>1</td>\n      <td>0</td>\n      <td>0</td>\n      <td>...</td>\n      <td>0</td>\n      <td>0</td>\n      <td>0</td>\n      <td>0</td>\n      <td>0</td>\n      <td>0</td>\n      <td>0</td>\n      <td>0</td>\n      <td>0</td>\n      <td>1995</td>\n    </tr>\n    <tr>\n      <th>2</th>\n      <td>3</td>\n      <td>Grumpier Old Men</td>\n      <td>Comedy|Romance</td>\n      <td>0</td>\n      <td>0</td>\n      <td>0</td>\n      <td>0</td>\n      <td>0</td>\n      <td>1</td>\n      <td>0</td>\n      <td>...</td>\n      <td>0</td>\n      <td>0</td>\n      <td>0</td>\n      <td>0</td>\n      <td>1</td>\n      <td>0</td>\n      <td>0</td>\n      <td>0</td>\n      <td>0</td>\n      <td>1995</td>\n    </tr>\n    <tr>\n      <th>3</th>\n      <td>4</td>\n      <td>Waiting to Exhale</td>\n      <td>Comedy|Drama|Romance</td>\n      <td>0</td>\n      <td>0</td>\n      <td>0</td>\n      <td>0</td>\n      <td>0</td>\n      <td>1</td>\n      <td>0</td>\n      <td>...</td>\n      <td>0</td>\n      <td>0</td>\n      <td>0</td>\n      <td>0</td>\n      <td>1</td>\n      <td>0</td>\n      <td>0</td>\n      <td>0</td>\n      <td>0</td>\n      <td>1995</td>\n    </tr>\n    <tr>\n      <th>4</th>\n      <td>5</td>\n      <td>Father of the Bride Part II</td>\n      <td>Comedy</td>\n      <td>0</td>\n      <td>0</td>\n      <td>0</td>\n      <td>0</td>\n      <td>0</td>\n      <td>1</td>\n      <td>0</td>\n      <td>...</td>\n      <td>0</td>\n      <td>0</td>\n      <td>0</td>\n      <td>0</td>\n      <td>0</td>\n      <td>0</td>\n      <td>0</td>\n      <td>0</td>\n      <td>0</td>\n      <td>1995</td>\n    </tr>\n    <tr>\n      <th>...</th>\n      <td>...</td>\n      <td>...</td>\n      <td>...</td>\n      <td>...</td>\n      <td>...</td>\n      <td>...</td>\n      <td>...</td>\n      <td>...</td>\n      <td>...</td>\n      <td>...</td>\n      <td>...</td>\n      <td>...</td>\n      <td>...</td>\n      <td>...</td>\n      <td>...</td>\n      <td>...</td>\n      <td>...</td>\n      <td>...</td>\n      <td>...</td>\n      <td>...</td>\n      <td>...</td>\n    </tr>\n    <tr>\n      <th>9737</th>\n      <td>193581</td>\n      <td>Black Butler: Book of the Atlantic</td>\n      <td>Action|Animation|Comedy|Fantasy</td>\n      <td>0</td>\n      <td>1</td>\n      <td>0</td>\n      <td>1</td>\n      <td>0</td>\n      <td>1</td>\n      <td>0</td>\n      <td>...</td>\n      <td>0</td>\n      <td>0</td>\n      <td>0</td>\n      <td>0</td>\n      <td>0</td>\n      <td>0</td>\n      <td>0</td>\n      <td>0</td>\n      <td>0</td>\n      <td>2017</td>\n    </tr>\n    <tr>\n      <th>9738</th>\n      <td>193583</td>\n      <td>No Game No Life: Zero</td>\n      <td>Animation|Comedy|Fantasy</td>\n      <td>0</td>\n      <td>0</td>\n      <td>0</td>\n      <td>1</td>\n      <td>0</td>\n      <td>1</td>\n      <td>0</td>\n      <td>...</td>\n      <td>0</td>\n      <td>0</td>\n      <td>0</td>\n      <td>0</td>\n      <td>0</td>\n      <td>0</td>\n      <td>0</td>\n      <td>0</td>\n      <td>0</td>\n      <td>2017</td>\n    </tr>\n    <tr>\n      <th>9739</th>\n      <td>193585</td>\n      <td>Flint</td>\n      <td>Drama</td>\n      <td>0</td>\n      <td>0</td>\n      <td>0</td>\n      <td>0</td>\n      <td>0</td>\n      <td>0</td>\n      <td>0</td>\n      <td>...</td>\n      <td>0</td>\n      <td>0</td>\n      <td>0</td>\n      <td>0</td>\n      <td>0</td>\n      <td>0</td>\n      <td>0</td>\n      <td>0</td>\n      <td>0</td>\n      <td>2017</td>\n    </tr>\n    <tr>\n      <th>9740</th>\n      <td>193587</td>\n      <td>Bungo Stray Dogs: Dead Apple</td>\n      <td>Action|Animation</td>\n      <td>0</td>\n      <td>1</td>\n      <td>0</td>\n      <td>1</td>\n      <td>0</td>\n      <td>0</td>\n      <td>0</td>\n      <td>...</td>\n      <td>0</td>\n      <td>0</td>\n      <td>0</td>\n      <td>0</td>\n      <td>0</td>\n      <td>0</td>\n      <td>0</td>\n      <td>0</td>\n      <td>0</td>\n      <td>2018</td>\n    </tr>\n    <tr>\n      <th>9741</th>\n      <td>193609</td>\n      <td>Andrew Dice Clay: Dice Rules</td>\n      <td>Comedy</td>\n      <td>0</td>\n      <td>0</td>\n      <td>0</td>\n      <td>0</td>\n      <td>0</td>\n      <td>1</td>\n      <td>0</td>\n      <td>...</td>\n      <td>0</td>\n      <td>0</td>\n      <td>0</td>\n      <td>0</td>\n      <td>0</td>\n      <td>0</td>\n      <td>0</td>\n      <td>0</td>\n      <td>0</td>\n      <td>1991</td>\n    </tr>\n  </tbody>\n</table>\n<p>9729 rows × 24 columns</p>\n</div>"
     },
     "metadata": {},
     "execution_count": 13
    }
   ],
   "source": [
    "movies_df1.rename(columns={'(no genres listed)': 'No Genre'}, inplace=True)\n",
    "movies_df1"
   ]
  },
  {
   "cell_type": "code",
   "execution_count": 14,
   "metadata": {},
   "outputs": [
    {
     "output_type": "execute_result",
     "data": {
      "text/plain": [
       "Index(['movieId', 'title', 'genres', 'No Genre', 'Action', 'Adventure',\n",
       "       'Animation', 'Children', 'Comedy', 'Crime', 'Documentary', 'Drama',\n",
       "       'Fantasy', 'Film-Noir', 'Horror', 'IMAX', 'Musical', 'Mystery',\n",
       "       'Romance', 'Sci-Fi', 'Thriller', 'War', 'Western', 'year'],\n",
       "      dtype='object')"
      ]
     },
     "metadata": {},
     "execution_count": 14
    }
   ],
   "source": [
    "movies_df1.columns"
   ]
  },
  {
   "cell_type": "code",
   "execution_count": 15,
   "metadata": {},
   "outputs": [
    {
     "output_type": "execute_result",
     "data": {
      "text/plain": [
       "      movieId                               title  year  No Genre  Action  \\\n",
       "0           1                           Toy Story  1995         0       0   \n",
       "1           2                             Jumanji  1995         0       0   \n",
       "2           3                    Grumpier Old Men  1995         0       0   \n",
       "3           4                   Waiting to Exhale  1995         0       0   \n",
       "4           5         Father of the Bride Part II  1995         0       0   \n",
       "...       ...                                 ...   ...       ...     ...   \n",
       "9737   193581  Black Butler: Book of the Atlantic  2017         0       1   \n",
       "9738   193583               No Game No Life: Zero  2017         0       0   \n",
       "9739   193585                               Flint  2017         0       0   \n",
       "9740   193587        Bungo Stray Dogs: Dead Apple  2018         0       1   \n",
       "9741   193609        Andrew Dice Clay: Dice Rules  1991         0       0   \n",
       "\n",
       "      Adventure  Animation  Children  Comedy  Crime  ...  Film-Noir  Horror  \\\n",
       "0             1          1         1       1      0  ...          0       0   \n",
       "1             1          0         1       0      0  ...          0       0   \n",
       "2             0          0         0       1      0  ...          0       0   \n",
       "3             0          0         0       1      0  ...          0       0   \n",
       "4             0          0         0       1      0  ...          0       0   \n",
       "...         ...        ...       ...     ...    ...  ...        ...     ...   \n",
       "9737          0          1         0       1      0  ...          0       0   \n",
       "9738          0          1         0       1      0  ...          0       0   \n",
       "9739          0          0         0       0      0  ...          0       0   \n",
       "9740          0          1         0       0      0  ...          0       0   \n",
       "9741          0          0         0       1      0  ...          0       0   \n",
       "\n",
       "      IMAX  Musical  Mystery  Romance  Sci-Fi  Thriller  War  Western  \n",
       "0        0        0        0        0       0         0    0        0  \n",
       "1        0        0        0        0       0         0    0        0  \n",
       "2        0        0        0        1       0         0    0        0  \n",
       "3        0        0        0        1       0         0    0        0  \n",
       "4        0        0        0        0       0         0    0        0  \n",
       "...    ...      ...      ...      ...     ...       ...  ...      ...  \n",
       "9737     0        0        0        0       0         0    0        0  \n",
       "9738     0        0        0        0       0         0    0        0  \n",
       "9739     0        0        0        0       0         0    0        0  \n",
       "9740     0        0        0        0       0         0    0        0  \n",
       "9741     0        0        0        0       0         0    0        0  \n",
       "\n",
       "[9729 rows x 23 columns]"
      ],
      "text/html": "<div>\n<style scoped>\n    .dataframe tbody tr th:only-of-type {\n        vertical-align: middle;\n    }\n\n    .dataframe tbody tr th {\n        vertical-align: top;\n    }\n\n    .dataframe thead th {\n        text-align: right;\n    }\n</style>\n<table border=\"1\" class=\"dataframe\">\n  <thead>\n    <tr style=\"text-align: right;\">\n      <th></th>\n      <th>movieId</th>\n      <th>title</th>\n      <th>year</th>\n      <th>No Genre</th>\n      <th>Action</th>\n      <th>Adventure</th>\n      <th>Animation</th>\n      <th>Children</th>\n      <th>Comedy</th>\n      <th>Crime</th>\n      <th>...</th>\n      <th>Film-Noir</th>\n      <th>Horror</th>\n      <th>IMAX</th>\n      <th>Musical</th>\n      <th>Mystery</th>\n      <th>Romance</th>\n      <th>Sci-Fi</th>\n      <th>Thriller</th>\n      <th>War</th>\n      <th>Western</th>\n    </tr>\n  </thead>\n  <tbody>\n    <tr>\n      <th>0</th>\n      <td>1</td>\n      <td>Toy Story</td>\n      <td>1995</td>\n      <td>0</td>\n      <td>0</td>\n      <td>1</td>\n      <td>1</td>\n      <td>1</td>\n      <td>1</td>\n      <td>0</td>\n      <td>...</td>\n      <td>0</td>\n      <td>0</td>\n      <td>0</td>\n      <td>0</td>\n      <td>0</td>\n      <td>0</td>\n      <td>0</td>\n      <td>0</td>\n      <td>0</td>\n      <td>0</td>\n    </tr>\n    <tr>\n      <th>1</th>\n      <td>2</td>\n      <td>Jumanji</td>\n      <td>1995</td>\n      <td>0</td>\n      <td>0</td>\n      <td>1</td>\n      <td>0</td>\n      <td>1</td>\n      <td>0</td>\n      <td>0</td>\n      <td>...</td>\n      <td>0</td>\n      <td>0</td>\n      <td>0</td>\n      <td>0</td>\n      <td>0</td>\n      <td>0</td>\n      <td>0</td>\n      <td>0</td>\n      <td>0</td>\n      <td>0</td>\n    </tr>\n    <tr>\n      <th>2</th>\n      <td>3</td>\n      <td>Grumpier Old Men</td>\n      <td>1995</td>\n      <td>0</td>\n      <td>0</td>\n      <td>0</td>\n      <td>0</td>\n      <td>0</td>\n      <td>1</td>\n      <td>0</td>\n      <td>...</td>\n      <td>0</td>\n      <td>0</td>\n      <td>0</td>\n      <td>0</td>\n      <td>0</td>\n      <td>1</td>\n      <td>0</td>\n      <td>0</td>\n      <td>0</td>\n      <td>0</td>\n    </tr>\n    <tr>\n      <th>3</th>\n      <td>4</td>\n      <td>Waiting to Exhale</td>\n      <td>1995</td>\n      <td>0</td>\n      <td>0</td>\n      <td>0</td>\n      <td>0</td>\n      <td>0</td>\n      <td>1</td>\n      <td>0</td>\n      <td>...</td>\n      <td>0</td>\n      <td>0</td>\n      <td>0</td>\n      <td>0</td>\n      <td>0</td>\n      <td>1</td>\n      <td>0</td>\n      <td>0</td>\n      <td>0</td>\n      <td>0</td>\n    </tr>\n    <tr>\n      <th>4</th>\n      <td>5</td>\n      <td>Father of the Bride Part II</td>\n      <td>1995</td>\n      <td>0</td>\n      <td>0</td>\n      <td>0</td>\n      <td>0</td>\n      <td>0</td>\n      <td>1</td>\n      <td>0</td>\n      <td>...</td>\n      <td>0</td>\n      <td>0</td>\n      <td>0</td>\n      <td>0</td>\n      <td>0</td>\n      <td>0</td>\n      <td>0</td>\n      <td>0</td>\n      <td>0</td>\n      <td>0</td>\n    </tr>\n    <tr>\n      <th>...</th>\n      <td>...</td>\n      <td>...</td>\n      <td>...</td>\n      <td>...</td>\n      <td>...</td>\n      <td>...</td>\n      <td>...</td>\n      <td>...</td>\n      <td>...</td>\n      <td>...</td>\n      <td>...</td>\n      <td>...</td>\n      <td>...</td>\n      <td>...</td>\n      <td>...</td>\n      <td>...</td>\n      <td>...</td>\n      <td>...</td>\n      <td>...</td>\n      <td>...</td>\n      <td>...</td>\n    </tr>\n    <tr>\n      <th>9737</th>\n      <td>193581</td>\n      <td>Black Butler: Book of the Atlantic</td>\n      <td>2017</td>\n      <td>0</td>\n      <td>1</td>\n      <td>0</td>\n      <td>1</td>\n      <td>0</td>\n      <td>1</td>\n      <td>0</td>\n      <td>...</td>\n      <td>0</td>\n      <td>0</td>\n      <td>0</td>\n      <td>0</td>\n      <td>0</td>\n      <td>0</td>\n      <td>0</td>\n      <td>0</td>\n      <td>0</td>\n      <td>0</td>\n    </tr>\n    <tr>\n      <th>9738</th>\n      <td>193583</td>\n      <td>No Game No Life: Zero</td>\n      <td>2017</td>\n      <td>0</td>\n      <td>0</td>\n      <td>0</td>\n      <td>1</td>\n      <td>0</td>\n      <td>1</td>\n      <td>0</td>\n      <td>...</td>\n      <td>0</td>\n      <td>0</td>\n      <td>0</td>\n      <td>0</td>\n      <td>0</td>\n      <td>0</td>\n      <td>0</td>\n      <td>0</td>\n      <td>0</td>\n      <td>0</td>\n    </tr>\n    <tr>\n      <th>9739</th>\n      <td>193585</td>\n      <td>Flint</td>\n      <td>2017</td>\n      <td>0</td>\n      <td>0</td>\n      <td>0</td>\n      <td>0</td>\n      <td>0</td>\n      <td>0</td>\n      <td>0</td>\n      <td>...</td>\n      <td>0</td>\n      <td>0</td>\n      <td>0</td>\n      <td>0</td>\n      <td>0</td>\n      <td>0</td>\n      <td>0</td>\n      <td>0</td>\n      <td>0</td>\n      <td>0</td>\n    </tr>\n    <tr>\n      <th>9740</th>\n      <td>193587</td>\n      <td>Bungo Stray Dogs: Dead Apple</td>\n      <td>2018</td>\n      <td>0</td>\n      <td>1</td>\n      <td>0</td>\n      <td>1</td>\n      <td>0</td>\n      <td>0</td>\n      <td>0</td>\n      <td>...</td>\n      <td>0</td>\n      <td>0</td>\n      <td>0</td>\n      <td>0</td>\n      <td>0</td>\n      <td>0</td>\n      <td>0</td>\n      <td>0</td>\n      <td>0</td>\n      <td>0</td>\n    </tr>\n    <tr>\n      <th>9741</th>\n      <td>193609</td>\n      <td>Andrew Dice Clay: Dice Rules</td>\n      <td>1991</td>\n      <td>0</td>\n      <td>0</td>\n      <td>0</td>\n      <td>0</td>\n      <td>0</td>\n      <td>1</td>\n      <td>0</td>\n      <td>...</td>\n      <td>0</td>\n      <td>0</td>\n      <td>0</td>\n      <td>0</td>\n      <td>0</td>\n      <td>0</td>\n      <td>0</td>\n      <td>0</td>\n      <td>0</td>\n      <td>0</td>\n    </tr>\n  </tbody>\n</table>\n<p>9729 rows × 23 columns</p>\n</div>"
     },
     "metadata": {},
     "execution_count": 15
    }
   ],
   "source": [
    "cols = ['movieId', 'title', 'year', 'No Genre', 'Action', 'Adventure',\n",
    "       'Animation', 'Children', 'Comedy', 'Crime', 'Documentary', 'Drama',\n",
    "       'Fantasy', 'Film-Noir', 'Horror', 'IMAX', 'Musical', 'Mystery',\n",
    "       'Romance', 'Sci-Fi', 'Thriller', 'War', 'Western']\n",
    "movies_df1 = movies_df1[cols]\n",
    "movies_df1"
   ]
  },
  {
   "cell_type": "code",
   "execution_count": 16,
   "metadata": {},
   "outputs": [
    {
     "output_type": "execute_result",
     "data": {
      "text/plain": [
       "      movieId                               title  year  No Genre  Action  \\\n",
       "0           1                           Toy Story  1995         0       0   \n",
       "1           2                             Jumanji  1995         0       0   \n",
       "2           3                    Grumpier Old Men  1995         0       0   \n",
       "3           4                   Waiting to Exhale  1995         0       0   \n",
       "4           5         Father of the Bride Part II  1995         0       0   \n",
       "...       ...                                 ...   ...       ...     ...   \n",
       "9737   193581  Black Butler: Book of the Atlantic  2017         0       1   \n",
       "9738   193583               No Game No Life: Zero  2017         0       0   \n",
       "9739   193585                               Flint  2017         0       0   \n",
       "9740   193587        Bungo Stray Dogs: Dead Apple  2018         0       1   \n",
       "9741   193609        Andrew Dice Clay: Dice Rules  1991         0       0   \n",
       "\n",
       "      Adventure  Animation  Children  Comedy  Crime  ...  Film-Noir  Horror  \\\n",
       "0             1          1         1       1      0  ...          0       0   \n",
       "1             1          0         1       0      0  ...          0       0   \n",
       "2             0          0         0       1      0  ...          0       0   \n",
       "3             0          0         0       1      0  ...          0       0   \n",
       "4             0          0         0       1      0  ...          0       0   \n",
       "...         ...        ...       ...     ...    ...  ...        ...     ...   \n",
       "9737          0          1         0       1      0  ...          0       0   \n",
       "9738          0          1         0       1      0  ...          0       0   \n",
       "9739          0          0         0       0      0  ...          0       0   \n",
       "9740          0          1         0       0      0  ...          0       0   \n",
       "9741          0          0         0       1      0  ...          0       0   \n",
       "\n",
       "      IMAX  Musical  Mystery  Romance  Sci-Fi  Thriller  War  Western  \n",
       "0        0        0        0        0       0         0    0        0  \n",
       "1        0        0        0        0       0         0    0        0  \n",
       "2        0        0        0        1       0         0    0        0  \n",
       "3        0        0        0        1       0         0    0        0  \n",
       "4        0        0        0        0       0         0    0        0  \n",
       "...    ...      ...      ...      ...     ...       ...  ...      ...  \n",
       "9737     0        0        0        0       0         0    0        0  \n",
       "9738     0        0        0        0       0         0    0        0  \n",
       "9739     0        0        0        0       0         0    0        0  \n",
       "9740     0        0        0        0       0         0    0        0  \n",
       "9741     0        0        0        0       0         0    0        0  \n",
       "\n",
       "[9729 rows x 23 columns]"
      ],
      "text/html": "<div>\n<style scoped>\n    .dataframe tbody tr th:only-of-type {\n        vertical-align: middle;\n    }\n\n    .dataframe tbody tr th {\n        vertical-align: top;\n    }\n\n    .dataframe thead th {\n        text-align: right;\n    }\n</style>\n<table border=\"1\" class=\"dataframe\">\n  <thead>\n    <tr style=\"text-align: right;\">\n      <th></th>\n      <th>movieId</th>\n      <th>title</th>\n      <th>year</th>\n      <th>No Genre</th>\n      <th>Action</th>\n      <th>Adventure</th>\n      <th>Animation</th>\n      <th>Children</th>\n      <th>Comedy</th>\n      <th>Crime</th>\n      <th>...</th>\n      <th>Film-Noir</th>\n      <th>Horror</th>\n      <th>IMAX</th>\n      <th>Musical</th>\n      <th>Mystery</th>\n      <th>Romance</th>\n      <th>Sci-Fi</th>\n      <th>Thriller</th>\n      <th>War</th>\n      <th>Western</th>\n    </tr>\n  </thead>\n  <tbody>\n    <tr>\n      <th>0</th>\n      <td>1</td>\n      <td>Toy Story</td>\n      <td>1995</td>\n      <td>0</td>\n      <td>0</td>\n      <td>1</td>\n      <td>1</td>\n      <td>1</td>\n      <td>1</td>\n      <td>0</td>\n      <td>...</td>\n      <td>0</td>\n      <td>0</td>\n      <td>0</td>\n      <td>0</td>\n      <td>0</td>\n      <td>0</td>\n      <td>0</td>\n      <td>0</td>\n      <td>0</td>\n      <td>0</td>\n    </tr>\n    <tr>\n      <th>1</th>\n      <td>2</td>\n      <td>Jumanji</td>\n      <td>1995</td>\n      <td>0</td>\n      <td>0</td>\n      <td>1</td>\n      <td>0</td>\n      <td>1</td>\n      <td>0</td>\n      <td>0</td>\n      <td>...</td>\n      <td>0</td>\n      <td>0</td>\n      <td>0</td>\n      <td>0</td>\n      <td>0</td>\n      <td>0</td>\n      <td>0</td>\n      <td>0</td>\n      <td>0</td>\n      <td>0</td>\n    </tr>\n    <tr>\n      <th>2</th>\n      <td>3</td>\n      <td>Grumpier Old Men</td>\n      <td>1995</td>\n      <td>0</td>\n      <td>0</td>\n      <td>0</td>\n      <td>0</td>\n      <td>0</td>\n      <td>1</td>\n      <td>0</td>\n      <td>...</td>\n      <td>0</td>\n      <td>0</td>\n      <td>0</td>\n      <td>0</td>\n      <td>0</td>\n      <td>1</td>\n      <td>0</td>\n      <td>0</td>\n      <td>0</td>\n      <td>0</td>\n    </tr>\n    <tr>\n      <th>3</th>\n      <td>4</td>\n      <td>Waiting to Exhale</td>\n      <td>1995</td>\n      <td>0</td>\n      <td>0</td>\n      <td>0</td>\n      <td>0</td>\n      <td>0</td>\n      <td>1</td>\n      <td>0</td>\n      <td>...</td>\n      <td>0</td>\n      <td>0</td>\n      <td>0</td>\n      <td>0</td>\n      <td>0</td>\n      <td>1</td>\n      <td>0</td>\n      <td>0</td>\n      <td>0</td>\n      <td>0</td>\n    </tr>\n    <tr>\n      <th>4</th>\n      <td>5</td>\n      <td>Father of the Bride Part II</td>\n      <td>1995</td>\n      <td>0</td>\n      <td>0</td>\n      <td>0</td>\n      <td>0</td>\n      <td>0</td>\n      <td>1</td>\n      <td>0</td>\n      <td>...</td>\n      <td>0</td>\n      <td>0</td>\n      <td>0</td>\n      <td>0</td>\n      <td>0</td>\n      <td>0</td>\n      <td>0</td>\n      <td>0</td>\n      <td>0</td>\n      <td>0</td>\n    </tr>\n    <tr>\n      <th>...</th>\n      <td>...</td>\n      <td>...</td>\n      <td>...</td>\n      <td>...</td>\n      <td>...</td>\n      <td>...</td>\n      <td>...</td>\n      <td>...</td>\n      <td>...</td>\n      <td>...</td>\n      <td>...</td>\n      <td>...</td>\n      <td>...</td>\n      <td>...</td>\n      <td>...</td>\n      <td>...</td>\n      <td>...</td>\n      <td>...</td>\n      <td>...</td>\n      <td>...</td>\n      <td>...</td>\n    </tr>\n    <tr>\n      <th>9737</th>\n      <td>193581</td>\n      <td>Black Butler: Book of the Atlantic</td>\n      <td>2017</td>\n      <td>0</td>\n      <td>1</td>\n      <td>0</td>\n      <td>1</td>\n      <td>0</td>\n      <td>1</td>\n      <td>0</td>\n      <td>...</td>\n      <td>0</td>\n      <td>0</td>\n      <td>0</td>\n      <td>0</td>\n      <td>0</td>\n      <td>0</td>\n      <td>0</td>\n      <td>0</td>\n      <td>0</td>\n      <td>0</td>\n    </tr>\n    <tr>\n      <th>9738</th>\n      <td>193583</td>\n      <td>No Game No Life: Zero</td>\n      <td>2017</td>\n      <td>0</td>\n      <td>0</td>\n      <td>0</td>\n      <td>1</td>\n      <td>0</td>\n      <td>1</td>\n      <td>0</td>\n      <td>...</td>\n      <td>0</td>\n      <td>0</td>\n      <td>0</td>\n      <td>0</td>\n      <td>0</td>\n      <td>0</td>\n      <td>0</td>\n      <td>0</td>\n      <td>0</td>\n      <td>0</td>\n    </tr>\n    <tr>\n      <th>9739</th>\n      <td>193585</td>\n      <td>Flint</td>\n      <td>2017</td>\n      <td>0</td>\n      <td>0</td>\n      <td>0</td>\n      <td>0</td>\n      <td>0</td>\n      <td>0</td>\n      <td>0</td>\n      <td>...</td>\n      <td>0</td>\n      <td>0</td>\n      <td>0</td>\n      <td>0</td>\n      <td>0</td>\n      <td>0</td>\n      <td>0</td>\n      <td>0</td>\n      <td>0</td>\n      <td>0</td>\n    </tr>\n    <tr>\n      <th>9740</th>\n      <td>193587</td>\n      <td>Bungo Stray Dogs: Dead Apple</td>\n      <td>2018</td>\n      <td>0</td>\n      <td>1</td>\n      <td>0</td>\n      <td>1</td>\n      <td>0</td>\n      <td>0</td>\n      <td>0</td>\n      <td>...</td>\n      <td>0</td>\n      <td>0</td>\n      <td>0</td>\n      <td>0</td>\n      <td>0</td>\n      <td>0</td>\n      <td>0</td>\n      <td>0</td>\n      <td>0</td>\n      <td>0</td>\n    </tr>\n    <tr>\n      <th>9741</th>\n      <td>193609</td>\n      <td>Andrew Dice Clay: Dice Rules</td>\n      <td>1991</td>\n      <td>0</td>\n      <td>0</td>\n      <td>0</td>\n      <td>0</td>\n      <td>0</td>\n      <td>1</td>\n      <td>0</td>\n      <td>...</td>\n      <td>0</td>\n      <td>0</td>\n      <td>0</td>\n      <td>0</td>\n      <td>0</td>\n      <td>0</td>\n      <td>0</td>\n      <td>0</td>\n      <td>0</td>\n      <td>0</td>\n    </tr>\n  </tbody>\n</table>\n<p>9729 rows × 23 columns</p>\n</div>"
     },
     "metadata": {},
     "execution_count": 16
    }
   ],
   "source": [
    "cleaned_movies_df = movies_df1\n",
    "cleaned_movies_df"
   ]
  },
  {
   "cell_type": "markdown",
   "metadata": {},
   "source": [
    "### Combines 'The' with the title"
   ]
  },
  {
   "cell_type": "code",
   "execution_count": 17,
   "metadata": {},
   "outputs": [],
   "source": [
    "# movies_df2 = movies_df1.copy()\n",
    "# movies_df2['title'].iloc[28]"
   ]
  },
  {
   "cell_type": "code",
   "execution_count": 18,
   "metadata": {},
   "outputs": [],
   "source": [
    "# print(movies_df2['title'].iloc[28].split(','))\n",
    "# len(movies_df2['title'].iloc[28].split(','))"
   ]
  },
  {
   "cell_type": "markdown",
   "metadata": {},
   "source": [
    "### Removes alternative names in the title"
   ]
  },
  {
   "cell_type": "code",
   "execution_count": 19,
   "metadata": {},
   "outputs": [],
   "source": [
    "# movie_title = movies_df1['title'].str.split('(')\n",
    "# print(movie_title.head(30))\n",
    "# movie_title[29][0].rstrip()\n",
    "# movies_df1['title'] = movie_title.apply(lambda x: ','.join(map(str, x)))\n",
    "# movies_df1"
   ]
  },
  {
   "cell_type": "code",
   "execution_count": 20,
   "metadata": {},
   "outputs": [],
   "source": [
    "# movies_df1['title'].iloc[29]"
   ]
  },
  {
   "cell_type": "markdown",
   "metadata": {},
   "source": [
    "## Cleaning Movie Info Dataset"
   ]
  },
  {
   "cell_type": "code",
   "execution_count": 21,
   "metadata": {},
   "outputs": [
    {
     "output_type": "execute_result",
     "data": {
      "text/plain": [
       "        budget  runtime    tmdbId\n",
       "0     30000000       81     862.0\n",
       "1     65000000      104    8844.0\n",
       "2            0      101   15602.0\n",
       "3     16000000      127   31357.0\n",
       "4            0      106   11862.0\n",
       "...        ...      ...       ...\n",
       "9626         0      100  432131.0\n",
       "9627         0      106  445030.0\n",
       "9628         0       96  479308.0\n",
       "9629         0       90  483455.0\n",
       "9630         0       85   37891.0\n",
       "\n",
       "[9631 rows x 3 columns]"
      ],
      "text/html": "<div>\n<style scoped>\n    .dataframe tbody tr th:only-of-type {\n        vertical-align: middle;\n    }\n\n    .dataframe tbody tr th {\n        vertical-align: top;\n    }\n\n    .dataframe thead th {\n        text-align: right;\n    }\n</style>\n<table border=\"1\" class=\"dataframe\">\n  <thead>\n    <tr style=\"text-align: right;\">\n      <th></th>\n      <th>budget</th>\n      <th>runtime</th>\n      <th>tmdbId</th>\n    </tr>\n  </thead>\n  <tbody>\n    <tr>\n      <th>0</th>\n      <td>30000000</td>\n      <td>81</td>\n      <td>862.0</td>\n    </tr>\n    <tr>\n      <th>1</th>\n      <td>65000000</td>\n      <td>104</td>\n      <td>8844.0</td>\n    </tr>\n    <tr>\n      <th>2</th>\n      <td>0</td>\n      <td>101</td>\n      <td>15602.0</td>\n    </tr>\n    <tr>\n      <th>3</th>\n      <td>16000000</td>\n      <td>127</td>\n      <td>31357.0</td>\n    </tr>\n    <tr>\n      <th>4</th>\n      <td>0</td>\n      <td>106</td>\n      <td>11862.0</td>\n    </tr>\n    <tr>\n      <th>...</th>\n      <td>...</td>\n      <td>...</td>\n      <td>...</td>\n    </tr>\n    <tr>\n      <th>9626</th>\n      <td>0</td>\n      <td>100</td>\n      <td>432131.0</td>\n    </tr>\n    <tr>\n      <th>9627</th>\n      <td>0</td>\n      <td>106</td>\n      <td>445030.0</td>\n    </tr>\n    <tr>\n      <th>9628</th>\n      <td>0</td>\n      <td>96</td>\n      <td>479308.0</td>\n    </tr>\n    <tr>\n      <th>9629</th>\n      <td>0</td>\n      <td>90</td>\n      <td>483455.0</td>\n    </tr>\n    <tr>\n      <th>9630</th>\n      <td>0</td>\n      <td>85</td>\n      <td>37891.0</td>\n    </tr>\n  </tbody>\n</table>\n<p>9631 rows × 3 columns</p>\n</div>"
     },
     "metadata": {},
     "execution_count": 21
    }
   ],
   "source": [
    "movie_info_df1 = movie_info_df[['budget', 'runtime', 'tmdbId']]\n",
    "movie_info_df1"
   ]
  },
  {
   "cell_type": "code",
   "execution_count": 22,
   "metadata": {},
   "outputs": [
    {
     "output_type": "execute_result",
     "data": {
      "text/plain": [
       "             budget      runtime         tmdbId\n",
       "count  9.631000e+03  9631.000000    9631.000000\n",
       "mean   1.804333e+07   104.391652   53953.085557\n",
       "std    3.579062e+07    26.009393   92255.648277\n",
       "min    0.000000e+00     0.000000       2.000000\n",
       "25%    0.000000e+00    92.000000    9624.000000\n",
       "50%    1.500000e+06   102.000000   16340.000000\n",
       "75%    2.000000e+07   115.000000   43487.500000\n",
       "max    9.653130e+08   900.000000  525662.000000"
      ],
      "text/html": "<div>\n<style scoped>\n    .dataframe tbody tr th:only-of-type {\n        vertical-align: middle;\n    }\n\n    .dataframe tbody tr th {\n        vertical-align: top;\n    }\n\n    .dataframe thead th {\n        text-align: right;\n    }\n</style>\n<table border=\"1\" class=\"dataframe\">\n  <thead>\n    <tr style=\"text-align: right;\">\n      <th></th>\n      <th>budget</th>\n      <th>runtime</th>\n      <th>tmdbId</th>\n    </tr>\n  </thead>\n  <tbody>\n    <tr>\n      <th>count</th>\n      <td>9.631000e+03</td>\n      <td>9631.000000</td>\n      <td>9631.000000</td>\n    </tr>\n    <tr>\n      <th>mean</th>\n      <td>1.804333e+07</td>\n      <td>104.391652</td>\n      <td>53953.085557</td>\n    </tr>\n    <tr>\n      <th>std</th>\n      <td>3.579062e+07</td>\n      <td>26.009393</td>\n      <td>92255.648277</td>\n    </tr>\n    <tr>\n      <th>min</th>\n      <td>0.000000e+00</td>\n      <td>0.000000</td>\n      <td>2.000000</td>\n    </tr>\n    <tr>\n      <th>25%</th>\n      <td>0.000000e+00</td>\n      <td>92.000000</td>\n      <td>9624.000000</td>\n    </tr>\n    <tr>\n      <th>50%</th>\n      <td>1.500000e+06</td>\n      <td>102.000000</td>\n      <td>16340.000000</td>\n    </tr>\n    <tr>\n      <th>75%</th>\n      <td>2.000000e+07</td>\n      <td>115.000000</td>\n      <td>43487.500000</td>\n    </tr>\n    <tr>\n      <th>max</th>\n      <td>9.653130e+08</td>\n      <td>900.000000</td>\n      <td>525662.000000</td>\n    </tr>\n  </tbody>\n</table>\n</div>"
     },
     "metadata": {},
     "execution_count": 22
    }
   ],
   "source": [
    "movie_info_df1.describe()"
   ]
  },
  {
   "cell_type": "markdown",
   "metadata": {},
   "source": [
    "### Remove movies with 0 budget"
   ]
  },
  {
   "cell_type": "code",
   "execution_count": 23,
   "metadata": {},
   "outputs": [
    {
     "output_type": "execute_result",
     "data": {
      "text/plain": [
       "      budget  runtime    tmdbId\n",
       "2          0      101   15602.0\n",
       "4          0      106   11862.0\n",
       "7          0       97   45325.0\n",
       "11         0       88   12110.0\n",
       "12         0       78   21032.0\n",
       "...      ...      ...       ...\n",
       "9626       0      100  432131.0\n",
       "9627       0      106  445030.0\n",
       "9628       0       96  479308.0\n",
       "9629       0       90  483455.0\n",
       "9630       0       85   37891.0\n",
       "\n",
       "[5423 rows x 3 columns]"
      ],
      "text/html": "<div>\n<style scoped>\n    .dataframe tbody tr th:only-of-type {\n        vertical-align: middle;\n    }\n\n    .dataframe tbody tr th {\n        vertical-align: top;\n    }\n\n    .dataframe thead th {\n        text-align: right;\n    }\n</style>\n<table border=\"1\" class=\"dataframe\">\n  <thead>\n    <tr style=\"text-align: right;\">\n      <th></th>\n      <th>budget</th>\n      <th>runtime</th>\n      <th>tmdbId</th>\n    </tr>\n  </thead>\n  <tbody>\n    <tr>\n      <th>2</th>\n      <td>0</td>\n      <td>101</td>\n      <td>15602.0</td>\n    </tr>\n    <tr>\n      <th>4</th>\n      <td>0</td>\n      <td>106</td>\n      <td>11862.0</td>\n    </tr>\n    <tr>\n      <th>7</th>\n      <td>0</td>\n      <td>97</td>\n      <td>45325.0</td>\n    </tr>\n    <tr>\n      <th>11</th>\n      <td>0</td>\n      <td>88</td>\n      <td>12110.0</td>\n    </tr>\n    <tr>\n      <th>12</th>\n      <td>0</td>\n      <td>78</td>\n      <td>21032.0</td>\n    </tr>\n    <tr>\n      <th>...</th>\n      <td>...</td>\n      <td>...</td>\n      <td>...</td>\n    </tr>\n    <tr>\n      <th>9626</th>\n      <td>0</td>\n      <td>100</td>\n      <td>432131.0</td>\n    </tr>\n    <tr>\n      <th>9627</th>\n      <td>0</td>\n      <td>106</td>\n      <td>445030.0</td>\n    </tr>\n    <tr>\n      <th>9628</th>\n      <td>0</td>\n      <td>96</td>\n      <td>479308.0</td>\n    </tr>\n    <tr>\n      <th>9629</th>\n      <td>0</td>\n      <td>90</td>\n      <td>483455.0</td>\n    </tr>\n    <tr>\n      <th>9630</th>\n      <td>0</td>\n      <td>85</td>\n      <td>37891.0</td>\n    </tr>\n  </tbody>\n</table>\n<p>5423 rows × 3 columns</p>\n</div>"
     },
     "metadata": {},
     "execution_count": 23
    }
   ],
   "source": [
    "movie_info_df1[movie_info_df1['budget'] < 5000000]"
   ]
  },
  {
   "cell_type": "markdown",
   "metadata": {},
   "source": [
    "# Merging Datasets"
   ]
  },
  {
   "cell_type": "code",
   "execution_count": 24,
   "metadata": {},
   "outputs": [
    {
     "output_type": "execute_result",
     "data": {
      "text/plain": [
       "      movieId                               title  year  No Genre  Action  \\\n",
       "0           1                           Toy Story  1995         0       0   \n",
       "1           2                             Jumanji  1995         0       0   \n",
       "2           3                    Grumpier Old Men  1995         0       0   \n",
       "3           4                   Waiting to Exhale  1995         0       0   \n",
       "4           5         Father of the Bride Part II  1995         0       0   \n",
       "...       ...                                 ...   ...       ...     ...   \n",
       "9620   193581  Black Butler: Book of the Atlantic  2017         0       1   \n",
       "9621   193583               No Game No Life: Zero  2017         0       0   \n",
       "9622   193585                               Flint  2017         0       0   \n",
       "9623   193587        Bungo Stray Dogs: Dead Apple  2018         0       1   \n",
       "9624   193609        Andrew Dice Clay: Dice Rules  1991         0       0   \n",
       "\n",
       "      Adventure  Animation  Children  Comedy  Crime  ...  Mystery  Romance  \\\n",
       "0             1          1         1       1      0  ...        0        0   \n",
       "1             1          0         1       0      0  ...        0        0   \n",
       "2             0          0         0       1      0  ...        0        1   \n",
       "3             0          0         0       1      0  ...        0        1   \n",
       "4             0          0         0       1      0  ...        0        0   \n",
       "...         ...        ...       ...     ...    ...  ...      ...      ...   \n",
       "9620          0          1         0       1      0  ...        0        0   \n",
       "9621          0          1         0       1      0  ...        0        0   \n",
       "9622          0          0         0       0      0  ...        0        0   \n",
       "9623          0          1         0       0      0  ...        0        0   \n",
       "9624          0          0         0       1      0  ...        0        0   \n",
       "\n",
       "      Sci-Fi  Thriller  War  Western   imdbId    tmdbId    budget  runtime  \n",
       "0          0         0    0        0   114709     862.0  30000000       81  \n",
       "1          0         0    0        0   113497    8844.0  65000000      104  \n",
       "2          0         0    0        0   113228   15602.0         0      101  \n",
       "3          0         0    0        0   114885   31357.0  16000000      127  \n",
       "4          0         0    0        0   113041   11862.0         0      106  \n",
       "...      ...       ...  ...      ...      ...       ...       ...      ...  \n",
       "9620       0         0    0        0  5476944  432131.0         0      100  \n",
       "9621       0         0    0        0  5914996  445030.0         0      106  \n",
       "9622       0         0    0        0  6397426  479308.0         0       96  \n",
       "9623       0         0    0        0  8391976  483455.0         0       90  \n",
       "9624       0         0    0        0   101726   37891.0         0       85  \n",
       "\n",
       "[9625 rows x 27 columns]"
      ],
      "text/html": "<div>\n<style scoped>\n    .dataframe tbody tr th:only-of-type {\n        vertical-align: middle;\n    }\n\n    .dataframe tbody tr th {\n        vertical-align: top;\n    }\n\n    .dataframe thead th {\n        text-align: right;\n    }\n</style>\n<table border=\"1\" class=\"dataframe\">\n  <thead>\n    <tr style=\"text-align: right;\">\n      <th></th>\n      <th>movieId</th>\n      <th>title</th>\n      <th>year</th>\n      <th>No Genre</th>\n      <th>Action</th>\n      <th>Adventure</th>\n      <th>Animation</th>\n      <th>Children</th>\n      <th>Comedy</th>\n      <th>Crime</th>\n      <th>...</th>\n      <th>Mystery</th>\n      <th>Romance</th>\n      <th>Sci-Fi</th>\n      <th>Thriller</th>\n      <th>War</th>\n      <th>Western</th>\n      <th>imdbId</th>\n      <th>tmdbId</th>\n      <th>budget</th>\n      <th>runtime</th>\n    </tr>\n  </thead>\n  <tbody>\n    <tr>\n      <th>0</th>\n      <td>1</td>\n      <td>Toy Story</td>\n      <td>1995</td>\n      <td>0</td>\n      <td>0</td>\n      <td>1</td>\n      <td>1</td>\n      <td>1</td>\n      <td>1</td>\n      <td>0</td>\n      <td>...</td>\n      <td>0</td>\n      <td>0</td>\n      <td>0</td>\n      <td>0</td>\n      <td>0</td>\n      <td>0</td>\n      <td>114709</td>\n      <td>862.0</td>\n      <td>30000000</td>\n      <td>81</td>\n    </tr>\n    <tr>\n      <th>1</th>\n      <td>2</td>\n      <td>Jumanji</td>\n      <td>1995</td>\n      <td>0</td>\n      <td>0</td>\n      <td>1</td>\n      <td>0</td>\n      <td>1</td>\n      <td>0</td>\n      <td>0</td>\n      <td>...</td>\n      <td>0</td>\n      <td>0</td>\n      <td>0</td>\n      <td>0</td>\n      <td>0</td>\n      <td>0</td>\n      <td>113497</td>\n      <td>8844.0</td>\n      <td>65000000</td>\n      <td>104</td>\n    </tr>\n    <tr>\n      <th>2</th>\n      <td>3</td>\n      <td>Grumpier Old Men</td>\n      <td>1995</td>\n      <td>0</td>\n      <td>0</td>\n      <td>0</td>\n      <td>0</td>\n      <td>0</td>\n      <td>1</td>\n      <td>0</td>\n      <td>...</td>\n      <td>0</td>\n      <td>1</td>\n      <td>0</td>\n      <td>0</td>\n      <td>0</td>\n      <td>0</td>\n      <td>113228</td>\n      <td>15602.0</td>\n      <td>0</td>\n      <td>101</td>\n    </tr>\n    <tr>\n      <th>3</th>\n      <td>4</td>\n      <td>Waiting to Exhale</td>\n      <td>1995</td>\n      <td>0</td>\n      <td>0</td>\n      <td>0</td>\n      <td>0</td>\n      <td>0</td>\n      <td>1</td>\n      <td>0</td>\n      <td>...</td>\n      <td>0</td>\n      <td>1</td>\n      <td>0</td>\n      <td>0</td>\n      <td>0</td>\n      <td>0</td>\n      <td>114885</td>\n      <td>31357.0</td>\n      <td>16000000</td>\n      <td>127</td>\n    </tr>\n    <tr>\n      <th>4</th>\n      <td>5</td>\n      <td>Father of the Bride Part II</td>\n      <td>1995</td>\n      <td>0</td>\n      <td>0</td>\n      <td>0</td>\n      <td>0</td>\n      <td>0</td>\n      <td>1</td>\n      <td>0</td>\n      <td>...</td>\n      <td>0</td>\n      <td>0</td>\n      <td>0</td>\n      <td>0</td>\n      <td>0</td>\n      <td>0</td>\n      <td>113041</td>\n      <td>11862.0</td>\n      <td>0</td>\n      <td>106</td>\n    </tr>\n    <tr>\n      <th>...</th>\n      <td>...</td>\n      <td>...</td>\n      <td>...</td>\n      <td>...</td>\n      <td>...</td>\n      <td>...</td>\n      <td>...</td>\n      <td>...</td>\n      <td>...</td>\n      <td>...</td>\n      <td>...</td>\n      <td>...</td>\n      <td>...</td>\n      <td>...</td>\n      <td>...</td>\n      <td>...</td>\n      <td>...</td>\n      <td>...</td>\n      <td>...</td>\n      <td>...</td>\n      <td>...</td>\n    </tr>\n    <tr>\n      <th>9620</th>\n      <td>193581</td>\n      <td>Black Butler: Book of the Atlantic</td>\n      <td>2017</td>\n      <td>0</td>\n      <td>1</td>\n      <td>0</td>\n      <td>1</td>\n      <td>0</td>\n      <td>1</td>\n      <td>0</td>\n      <td>...</td>\n      <td>0</td>\n      <td>0</td>\n      <td>0</td>\n      <td>0</td>\n      <td>0</td>\n      <td>0</td>\n      <td>5476944</td>\n      <td>432131.0</td>\n      <td>0</td>\n      <td>100</td>\n    </tr>\n    <tr>\n      <th>9621</th>\n      <td>193583</td>\n      <td>No Game No Life: Zero</td>\n      <td>2017</td>\n      <td>0</td>\n      <td>0</td>\n      <td>0</td>\n      <td>1</td>\n      <td>0</td>\n      <td>1</td>\n      <td>0</td>\n      <td>...</td>\n      <td>0</td>\n      <td>0</td>\n      <td>0</td>\n      <td>0</td>\n      <td>0</td>\n      <td>0</td>\n      <td>5914996</td>\n      <td>445030.0</td>\n      <td>0</td>\n      <td>106</td>\n    </tr>\n    <tr>\n      <th>9622</th>\n      <td>193585</td>\n      <td>Flint</td>\n      <td>2017</td>\n      <td>0</td>\n      <td>0</td>\n      <td>0</td>\n      <td>0</td>\n      <td>0</td>\n      <td>0</td>\n      <td>0</td>\n      <td>...</td>\n      <td>0</td>\n      <td>0</td>\n      <td>0</td>\n      <td>0</td>\n      <td>0</td>\n      <td>0</td>\n      <td>6397426</td>\n      <td>479308.0</td>\n      <td>0</td>\n      <td>96</td>\n    </tr>\n    <tr>\n      <th>9623</th>\n      <td>193587</td>\n      <td>Bungo Stray Dogs: Dead Apple</td>\n      <td>2018</td>\n      <td>0</td>\n      <td>1</td>\n      <td>0</td>\n      <td>1</td>\n      <td>0</td>\n      <td>0</td>\n      <td>0</td>\n      <td>...</td>\n      <td>0</td>\n      <td>0</td>\n      <td>0</td>\n      <td>0</td>\n      <td>0</td>\n      <td>0</td>\n      <td>8391976</td>\n      <td>483455.0</td>\n      <td>0</td>\n      <td>90</td>\n    </tr>\n    <tr>\n      <th>9624</th>\n      <td>193609</td>\n      <td>Andrew Dice Clay: Dice Rules</td>\n      <td>1991</td>\n      <td>0</td>\n      <td>0</td>\n      <td>0</td>\n      <td>0</td>\n      <td>0</td>\n      <td>1</td>\n      <td>0</td>\n      <td>...</td>\n      <td>0</td>\n      <td>0</td>\n      <td>0</td>\n      <td>0</td>\n      <td>0</td>\n      <td>0</td>\n      <td>101726</td>\n      <td>37891.0</td>\n      <td>0</td>\n      <td>85</td>\n    </tr>\n  </tbody>\n</table>\n<p>9625 rows × 27 columns</p>\n</div>"
     },
     "metadata": {},
     "execution_count": 24
    }
   ],
   "source": [
    "\n",
    "movies_links_df = cleaned_movies_df.merge(links_df)\n",
    "movie_data = movies_links_df.merge(movie_info_df1)\n",
    "movie_data"
   ]
  },
  {
   "cell_type": "markdown",
   "metadata": {},
   "source": [
    "### Calculate The Average Rating of Each Movie"
   ]
  },
  {
   "cell_type": "code",
   "execution_count": 25,
   "metadata": {},
   "outputs": [
    {
     "output_type": "execute_result",
     "data": {
      "text/plain": [
       "           rating\n",
       "movieId          \n",
       "1        3.920930\n",
       "2        3.431818\n",
       "3        3.259615\n",
       "4        2.357143\n",
       "5        3.071429\n",
       "...           ...\n",
       "193581   4.000000\n",
       "193583   3.500000\n",
       "193585   3.500000\n",
       "193587   3.500000\n",
       "193609   4.000000\n",
       "\n",
       "[9724 rows x 1 columns]"
      ],
      "text/html": "<div>\n<style scoped>\n    .dataframe tbody tr th:only-of-type {\n        vertical-align: middle;\n    }\n\n    .dataframe tbody tr th {\n        vertical-align: top;\n    }\n\n    .dataframe thead th {\n        text-align: right;\n    }\n</style>\n<table border=\"1\" class=\"dataframe\">\n  <thead>\n    <tr style=\"text-align: right;\">\n      <th></th>\n      <th>rating</th>\n    </tr>\n    <tr>\n      <th>movieId</th>\n      <th></th>\n    </tr>\n  </thead>\n  <tbody>\n    <tr>\n      <th>1</th>\n      <td>3.920930</td>\n    </tr>\n    <tr>\n      <th>2</th>\n      <td>3.431818</td>\n    </tr>\n    <tr>\n      <th>3</th>\n      <td>3.259615</td>\n    </tr>\n    <tr>\n      <th>4</th>\n      <td>2.357143</td>\n    </tr>\n    <tr>\n      <th>5</th>\n      <td>3.071429</td>\n    </tr>\n    <tr>\n      <th>...</th>\n      <td>...</td>\n    </tr>\n    <tr>\n      <th>193581</th>\n      <td>4.000000</td>\n    </tr>\n    <tr>\n      <th>193583</th>\n      <td>3.500000</td>\n    </tr>\n    <tr>\n      <th>193585</th>\n      <td>3.500000</td>\n    </tr>\n    <tr>\n      <th>193587</th>\n      <td>3.500000</td>\n    </tr>\n    <tr>\n      <th>193609</th>\n      <td>4.000000</td>\n    </tr>\n  </tbody>\n</table>\n<p>9724 rows × 1 columns</p>\n</div>"
     },
     "metadata": {},
     "execution_count": 25
    }
   ],
   "source": [
    "ratings_df1 = ratings_df[['movieId', 'rating']]\n",
    "avg_ratings_df = ratings_df1.groupby(by='movieId').mean()\n",
    "avg_ratings_df"
   ]
  },
  {
   "cell_type": "code",
   "execution_count": 26,
   "metadata": {},
   "outputs": [
    {
     "output_type": "execute_result",
     "data": {
      "text/plain": [
       "      movieId                               title  year  No Genre  Action  \\\n",
       "0           1                           Toy Story  1995         0       0   \n",
       "1           2                             Jumanji  1995         0       0   \n",
       "2           3                    Grumpier Old Men  1995         0       0   \n",
       "3           4                   Waiting to Exhale  1995         0       0   \n",
       "4           5         Father of the Bride Part II  1995         0       0   \n",
       "...       ...                                 ...   ...       ...     ...   \n",
       "9602   193581  Black Butler: Book of the Atlantic  2017         0       1   \n",
       "9603   193583               No Game No Life: Zero  2017         0       0   \n",
       "9604   193585                               Flint  2017         0       0   \n",
       "9605   193587        Bungo Stray Dogs: Dead Apple  2018         0       1   \n",
       "9606   193609        Andrew Dice Clay: Dice Rules  1991         0       0   \n",
       "\n",
       "      Adventure  Animation  Children  Comedy  Crime  ...  Romance  Sci-Fi  \\\n",
       "0             1          1         1       1      0  ...        0       0   \n",
       "1             1          0         1       0      0  ...        0       0   \n",
       "2             0          0         0       1      0  ...        1       0   \n",
       "3             0          0         0       1      0  ...        1       0   \n",
       "4             0          0         0       1      0  ...        0       0   \n",
       "...         ...        ...       ...     ...    ...  ...      ...     ...   \n",
       "9602          0          1         0       1      0  ...        0       0   \n",
       "9603          0          1         0       1      0  ...        0       0   \n",
       "9604          0          0         0       0      0  ...        0       0   \n",
       "9605          0          1         0       0      0  ...        0       0   \n",
       "9606          0          0         0       1      0  ...        0       0   \n",
       "\n",
       "      Thriller  War  Western   imdbId    tmdbId    budget  runtime    rating  \n",
       "0            0    0        0   114709     862.0  30000000       81  3.920930  \n",
       "1            0    0        0   113497    8844.0  65000000      104  3.431818  \n",
       "2            0    0        0   113228   15602.0         0      101  3.259615  \n",
       "3            0    0        0   114885   31357.0  16000000      127  2.357143  \n",
       "4            0    0        0   113041   11862.0         0      106  3.071429  \n",
       "...        ...  ...      ...      ...       ...       ...      ...       ...  \n",
       "9602         0    0        0  5476944  432131.0         0      100  4.000000  \n",
       "9603         0    0        0  5914996  445030.0         0      106  3.500000  \n",
       "9604         0    0        0  6397426  479308.0         0       96  3.500000  \n",
       "9605         0    0        0  8391976  483455.0         0       90  3.500000  \n",
       "9606         0    0        0   101726   37891.0         0       85  4.000000  \n",
       "\n",
       "[9607 rows x 28 columns]"
      ],
      "text/html": "<div>\n<style scoped>\n    .dataframe tbody tr th:only-of-type {\n        vertical-align: middle;\n    }\n\n    .dataframe tbody tr th {\n        vertical-align: top;\n    }\n\n    .dataframe thead th {\n        text-align: right;\n    }\n</style>\n<table border=\"1\" class=\"dataframe\">\n  <thead>\n    <tr style=\"text-align: right;\">\n      <th></th>\n      <th>movieId</th>\n      <th>title</th>\n      <th>year</th>\n      <th>No Genre</th>\n      <th>Action</th>\n      <th>Adventure</th>\n      <th>Animation</th>\n      <th>Children</th>\n      <th>Comedy</th>\n      <th>Crime</th>\n      <th>...</th>\n      <th>Romance</th>\n      <th>Sci-Fi</th>\n      <th>Thriller</th>\n      <th>War</th>\n      <th>Western</th>\n      <th>imdbId</th>\n      <th>tmdbId</th>\n      <th>budget</th>\n      <th>runtime</th>\n      <th>rating</th>\n    </tr>\n  </thead>\n  <tbody>\n    <tr>\n      <th>0</th>\n      <td>1</td>\n      <td>Toy Story</td>\n      <td>1995</td>\n      <td>0</td>\n      <td>0</td>\n      <td>1</td>\n      <td>1</td>\n      <td>1</td>\n      <td>1</td>\n      <td>0</td>\n      <td>...</td>\n      <td>0</td>\n      <td>0</td>\n      <td>0</td>\n      <td>0</td>\n      <td>0</td>\n      <td>114709</td>\n      <td>862.0</td>\n      <td>30000000</td>\n      <td>81</td>\n      <td>3.920930</td>\n    </tr>\n    <tr>\n      <th>1</th>\n      <td>2</td>\n      <td>Jumanji</td>\n      <td>1995</td>\n      <td>0</td>\n      <td>0</td>\n      <td>1</td>\n      <td>0</td>\n      <td>1</td>\n      <td>0</td>\n      <td>0</td>\n      <td>...</td>\n      <td>0</td>\n      <td>0</td>\n      <td>0</td>\n      <td>0</td>\n      <td>0</td>\n      <td>113497</td>\n      <td>8844.0</td>\n      <td>65000000</td>\n      <td>104</td>\n      <td>3.431818</td>\n    </tr>\n    <tr>\n      <th>2</th>\n      <td>3</td>\n      <td>Grumpier Old Men</td>\n      <td>1995</td>\n      <td>0</td>\n      <td>0</td>\n      <td>0</td>\n      <td>0</td>\n      <td>0</td>\n      <td>1</td>\n      <td>0</td>\n      <td>...</td>\n      <td>1</td>\n      <td>0</td>\n      <td>0</td>\n      <td>0</td>\n      <td>0</td>\n      <td>113228</td>\n      <td>15602.0</td>\n      <td>0</td>\n      <td>101</td>\n      <td>3.259615</td>\n    </tr>\n    <tr>\n      <th>3</th>\n      <td>4</td>\n      <td>Waiting to Exhale</td>\n      <td>1995</td>\n      <td>0</td>\n      <td>0</td>\n      <td>0</td>\n      <td>0</td>\n      <td>0</td>\n      <td>1</td>\n      <td>0</td>\n      <td>...</td>\n      <td>1</td>\n      <td>0</td>\n      <td>0</td>\n      <td>0</td>\n      <td>0</td>\n      <td>114885</td>\n      <td>31357.0</td>\n      <td>16000000</td>\n      <td>127</td>\n      <td>2.357143</td>\n    </tr>\n    <tr>\n      <th>4</th>\n      <td>5</td>\n      <td>Father of the Bride Part II</td>\n      <td>1995</td>\n      <td>0</td>\n      <td>0</td>\n      <td>0</td>\n      <td>0</td>\n      <td>0</td>\n      <td>1</td>\n      <td>0</td>\n      <td>...</td>\n      <td>0</td>\n      <td>0</td>\n      <td>0</td>\n      <td>0</td>\n      <td>0</td>\n      <td>113041</td>\n      <td>11862.0</td>\n      <td>0</td>\n      <td>106</td>\n      <td>3.071429</td>\n    </tr>\n    <tr>\n      <th>...</th>\n      <td>...</td>\n      <td>...</td>\n      <td>...</td>\n      <td>...</td>\n      <td>...</td>\n      <td>...</td>\n      <td>...</td>\n      <td>...</td>\n      <td>...</td>\n      <td>...</td>\n      <td>...</td>\n      <td>...</td>\n      <td>...</td>\n      <td>...</td>\n      <td>...</td>\n      <td>...</td>\n      <td>...</td>\n      <td>...</td>\n      <td>...</td>\n      <td>...</td>\n      <td>...</td>\n    </tr>\n    <tr>\n      <th>9602</th>\n      <td>193581</td>\n      <td>Black Butler: Book of the Atlantic</td>\n      <td>2017</td>\n      <td>0</td>\n      <td>1</td>\n      <td>0</td>\n      <td>1</td>\n      <td>0</td>\n      <td>1</td>\n      <td>0</td>\n      <td>...</td>\n      <td>0</td>\n      <td>0</td>\n      <td>0</td>\n      <td>0</td>\n      <td>0</td>\n      <td>5476944</td>\n      <td>432131.0</td>\n      <td>0</td>\n      <td>100</td>\n      <td>4.000000</td>\n    </tr>\n    <tr>\n      <th>9603</th>\n      <td>193583</td>\n      <td>No Game No Life: Zero</td>\n      <td>2017</td>\n      <td>0</td>\n      <td>0</td>\n      <td>0</td>\n      <td>1</td>\n      <td>0</td>\n      <td>1</td>\n      <td>0</td>\n      <td>...</td>\n      <td>0</td>\n      <td>0</td>\n      <td>0</td>\n      <td>0</td>\n      <td>0</td>\n      <td>5914996</td>\n      <td>445030.0</td>\n      <td>0</td>\n      <td>106</td>\n      <td>3.500000</td>\n    </tr>\n    <tr>\n      <th>9604</th>\n      <td>193585</td>\n      <td>Flint</td>\n      <td>2017</td>\n      <td>0</td>\n      <td>0</td>\n      <td>0</td>\n      <td>0</td>\n      <td>0</td>\n      <td>0</td>\n      <td>0</td>\n      <td>...</td>\n      <td>0</td>\n      <td>0</td>\n      <td>0</td>\n      <td>0</td>\n      <td>0</td>\n      <td>6397426</td>\n      <td>479308.0</td>\n      <td>0</td>\n      <td>96</td>\n      <td>3.500000</td>\n    </tr>\n    <tr>\n      <th>9605</th>\n      <td>193587</td>\n      <td>Bungo Stray Dogs: Dead Apple</td>\n      <td>2018</td>\n      <td>0</td>\n      <td>1</td>\n      <td>0</td>\n      <td>1</td>\n      <td>0</td>\n      <td>0</td>\n      <td>0</td>\n      <td>...</td>\n      <td>0</td>\n      <td>0</td>\n      <td>0</td>\n      <td>0</td>\n      <td>0</td>\n      <td>8391976</td>\n      <td>483455.0</td>\n      <td>0</td>\n      <td>90</td>\n      <td>3.500000</td>\n    </tr>\n    <tr>\n      <th>9606</th>\n      <td>193609</td>\n      <td>Andrew Dice Clay: Dice Rules</td>\n      <td>1991</td>\n      <td>0</td>\n      <td>0</td>\n      <td>0</td>\n      <td>0</td>\n      <td>0</td>\n      <td>1</td>\n      <td>0</td>\n      <td>...</td>\n      <td>0</td>\n      <td>0</td>\n      <td>0</td>\n      <td>0</td>\n      <td>0</td>\n      <td>101726</td>\n      <td>37891.0</td>\n      <td>0</td>\n      <td>85</td>\n      <td>4.000000</td>\n    </tr>\n  </tbody>\n</table>\n<p>9607 rows × 28 columns</p>\n</div>"
     },
     "metadata": {},
     "execution_count": 26
    }
   ],
   "source": [
    "movie_data = movie_data.merge(avg_ratings_df, on='movieId')\n",
    "movie_data"
   ]
  },
  {
   "cell_type": "code",
   "execution_count": 27,
   "metadata": {},
   "outputs": [
    {
     "output_type": "execute_result",
     "data": {
      "text/plain": [
       "        gender            name   movieId\n",
       "0          2.0       Tom Hanks       1.0\n",
       "1          2.0       Tim Allen       1.0\n",
       "2          2.0     Don Rickles       1.0\n",
       "3          2.0      Jim Varney       1.0\n",
       "4          2.0   Wallace Shawn       1.0\n",
       "...        ...             ...       ...\n",
       "266363     0.0     Alex Thaler  193609.0\n",
       "266364     1.0    Sharon Bialy  193609.0\n",
       "266365     1.0  Debi Manwiller  193609.0\n",
       "266366     1.0  Mary Margiotta  193609.0\n",
       "266367     2.0  Richard Pagano  193609.0\n",
       "\n",
       "[266368 rows x 3 columns]"
      ],
      "text/html": "<div>\n<style scoped>\n    .dataframe tbody tr th:only-of-type {\n        vertical-align: middle;\n    }\n\n    .dataframe tbody tr th {\n        vertical-align: top;\n    }\n\n    .dataframe thead th {\n        text-align: right;\n    }\n</style>\n<table border=\"1\" class=\"dataframe\">\n  <thead>\n    <tr style=\"text-align: right;\">\n      <th></th>\n      <th>gender</th>\n      <th>name</th>\n      <th>movieId</th>\n    </tr>\n  </thead>\n  <tbody>\n    <tr>\n      <th>0</th>\n      <td>2.0</td>\n      <td>Tom Hanks</td>\n      <td>1.0</td>\n    </tr>\n    <tr>\n      <th>1</th>\n      <td>2.0</td>\n      <td>Tim Allen</td>\n      <td>1.0</td>\n    </tr>\n    <tr>\n      <th>2</th>\n      <td>2.0</td>\n      <td>Don Rickles</td>\n      <td>1.0</td>\n    </tr>\n    <tr>\n      <th>3</th>\n      <td>2.0</td>\n      <td>Jim Varney</td>\n      <td>1.0</td>\n    </tr>\n    <tr>\n      <th>4</th>\n      <td>2.0</td>\n      <td>Wallace Shawn</td>\n      <td>1.0</td>\n    </tr>\n    <tr>\n      <th>...</th>\n      <td>...</td>\n      <td>...</td>\n      <td>...</td>\n    </tr>\n    <tr>\n      <th>266363</th>\n      <td>0.0</td>\n      <td>Alex Thaler</td>\n      <td>193609.0</td>\n    </tr>\n    <tr>\n      <th>266364</th>\n      <td>1.0</td>\n      <td>Sharon Bialy</td>\n      <td>193609.0</td>\n    </tr>\n    <tr>\n      <th>266365</th>\n      <td>1.0</td>\n      <td>Debi Manwiller</td>\n      <td>193609.0</td>\n    </tr>\n    <tr>\n      <th>266366</th>\n      <td>1.0</td>\n      <td>Mary Margiotta</td>\n      <td>193609.0</td>\n    </tr>\n    <tr>\n      <th>266367</th>\n      <td>2.0</td>\n      <td>Richard Pagano</td>\n      <td>193609.0</td>\n    </tr>\n  </tbody>\n</table>\n<p>266368 rows × 3 columns</p>\n</div>"
     },
     "metadata": {},
     "execution_count": 27
    }
   ],
   "source": [
    "cast_data = cast_df[['gender', 'name', 'movieId']]\n",
    "cast_data"
   ]
  },
  {
   "cell_type": "code",
   "execution_count": 28,
   "metadata": {},
   "outputs": [
    {
     "output_type": "execute_result",
     "data": {
      "text/plain": [
       "        movieId                         title  year  No Genre  Action  \\\n",
       "0             1                     Toy Story  1995         0       0   \n",
       "1             1                     Toy Story  1995         0       0   \n",
       "2             1                     Toy Story  1995         0       0   \n",
       "3             1                     Toy Story  1995         0       0   \n",
       "4             1                     Toy Story  1995         0       0   \n",
       "...         ...                           ...   ...       ...     ...   \n",
       "265718   193609  Andrew Dice Clay: Dice Rules  1991         0       0   \n",
       "265719   193609  Andrew Dice Clay: Dice Rules  1991         0       0   \n",
       "265720   193609  Andrew Dice Clay: Dice Rules  1991         0       0   \n",
       "265721   193609  Andrew Dice Clay: Dice Rules  1991         0       0   \n",
       "265722   193609  Andrew Dice Clay: Dice Rules  1991         0       0   \n",
       "\n",
       "        Adventure  Animation  Children  Comedy  Crime  ...  Thriller  War  \\\n",
       "0               1          1         1       1      0  ...         0    0   \n",
       "1               1          1         1       1      0  ...         0    0   \n",
       "2               1          1         1       1      0  ...         0    0   \n",
       "3               1          1         1       1      0  ...         0    0   \n",
       "4               1          1         1       1      0  ...         0    0   \n",
       "...           ...        ...       ...     ...    ...  ...       ...  ...   \n",
       "265718          0          0         0       1      0  ...         0    0   \n",
       "265719          0          0         0       1      0  ...         0    0   \n",
       "265720          0          0         0       1      0  ...         0    0   \n",
       "265721          0          0         0       1      0  ...         0    0   \n",
       "265722          0          0         0       1      0  ...         0    0   \n",
       "\n",
       "        Western  imdbId   tmdbId    budget  runtime   rating  gender  \\\n",
       "0             0  114709    862.0  30000000       81  3.92093     2.0   \n",
       "1             0  114709    862.0  30000000       81  3.92093     2.0   \n",
       "2             0  114709    862.0  30000000       81  3.92093     2.0   \n",
       "3             0  114709    862.0  30000000       81  3.92093     2.0   \n",
       "4             0  114709    862.0  30000000       81  3.92093     2.0   \n",
       "...         ...     ...      ...       ...      ...      ...     ...   \n",
       "265718        0  101726  37891.0         0       85  4.00000     0.0   \n",
       "265719        0  101726  37891.0         0       85  4.00000     1.0   \n",
       "265720        0  101726  37891.0         0       85  4.00000     1.0   \n",
       "265721        0  101726  37891.0         0       85  4.00000     1.0   \n",
       "265722        0  101726  37891.0         0       85  4.00000     2.0   \n",
       "\n",
       "                  name  \n",
       "0            Tom Hanks  \n",
       "1            Tim Allen  \n",
       "2          Don Rickles  \n",
       "3           Jim Varney  \n",
       "4        Wallace Shawn  \n",
       "...                ...  \n",
       "265718     Alex Thaler  \n",
       "265719    Sharon Bialy  \n",
       "265720  Debi Manwiller  \n",
       "265721  Mary Margiotta  \n",
       "265722  Richard Pagano  \n",
       "\n",
       "[265723 rows x 30 columns]"
      ],
      "text/html": "<div>\n<style scoped>\n    .dataframe tbody tr th:only-of-type {\n        vertical-align: middle;\n    }\n\n    .dataframe tbody tr th {\n        vertical-align: top;\n    }\n\n    .dataframe thead th {\n        text-align: right;\n    }\n</style>\n<table border=\"1\" class=\"dataframe\">\n  <thead>\n    <tr style=\"text-align: right;\">\n      <th></th>\n      <th>movieId</th>\n      <th>title</th>\n      <th>year</th>\n      <th>No Genre</th>\n      <th>Action</th>\n      <th>Adventure</th>\n      <th>Animation</th>\n      <th>Children</th>\n      <th>Comedy</th>\n      <th>Crime</th>\n      <th>...</th>\n      <th>Thriller</th>\n      <th>War</th>\n      <th>Western</th>\n      <th>imdbId</th>\n      <th>tmdbId</th>\n      <th>budget</th>\n      <th>runtime</th>\n      <th>rating</th>\n      <th>gender</th>\n      <th>name</th>\n    </tr>\n  </thead>\n  <tbody>\n    <tr>\n      <th>0</th>\n      <td>1</td>\n      <td>Toy Story</td>\n      <td>1995</td>\n      <td>0</td>\n      <td>0</td>\n      <td>1</td>\n      <td>1</td>\n      <td>1</td>\n      <td>1</td>\n      <td>0</td>\n      <td>...</td>\n      <td>0</td>\n      <td>0</td>\n      <td>0</td>\n      <td>114709</td>\n      <td>862.0</td>\n      <td>30000000</td>\n      <td>81</td>\n      <td>3.92093</td>\n      <td>2.0</td>\n      <td>Tom Hanks</td>\n    </tr>\n    <tr>\n      <th>1</th>\n      <td>1</td>\n      <td>Toy Story</td>\n      <td>1995</td>\n      <td>0</td>\n      <td>0</td>\n      <td>1</td>\n      <td>1</td>\n      <td>1</td>\n      <td>1</td>\n      <td>0</td>\n      <td>...</td>\n      <td>0</td>\n      <td>0</td>\n      <td>0</td>\n      <td>114709</td>\n      <td>862.0</td>\n      <td>30000000</td>\n      <td>81</td>\n      <td>3.92093</td>\n      <td>2.0</td>\n      <td>Tim Allen</td>\n    </tr>\n    <tr>\n      <th>2</th>\n      <td>1</td>\n      <td>Toy Story</td>\n      <td>1995</td>\n      <td>0</td>\n      <td>0</td>\n      <td>1</td>\n      <td>1</td>\n      <td>1</td>\n      <td>1</td>\n      <td>0</td>\n      <td>...</td>\n      <td>0</td>\n      <td>0</td>\n      <td>0</td>\n      <td>114709</td>\n      <td>862.0</td>\n      <td>30000000</td>\n      <td>81</td>\n      <td>3.92093</td>\n      <td>2.0</td>\n      <td>Don Rickles</td>\n    </tr>\n    <tr>\n      <th>3</th>\n      <td>1</td>\n      <td>Toy Story</td>\n      <td>1995</td>\n      <td>0</td>\n      <td>0</td>\n      <td>1</td>\n      <td>1</td>\n      <td>1</td>\n      <td>1</td>\n      <td>0</td>\n      <td>...</td>\n      <td>0</td>\n      <td>0</td>\n      <td>0</td>\n      <td>114709</td>\n      <td>862.0</td>\n      <td>30000000</td>\n      <td>81</td>\n      <td>3.92093</td>\n      <td>2.0</td>\n      <td>Jim Varney</td>\n    </tr>\n    <tr>\n      <th>4</th>\n      <td>1</td>\n      <td>Toy Story</td>\n      <td>1995</td>\n      <td>0</td>\n      <td>0</td>\n      <td>1</td>\n      <td>1</td>\n      <td>1</td>\n      <td>1</td>\n      <td>0</td>\n      <td>...</td>\n      <td>0</td>\n      <td>0</td>\n      <td>0</td>\n      <td>114709</td>\n      <td>862.0</td>\n      <td>30000000</td>\n      <td>81</td>\n      <td>3.92093</td>\n      <td>2.0</td>\n      <td>Wallace Shawn</td>\n    </tr>\n    <tr>\n      <th>...</th>\n      <td>...</td>\n      <td>...</td>\n      <td>...</td>\n      <td>...</td>\n      <td>...</td>\n      <td>...</td>\n      <td>...</td>\n      <td>...</td>\n      <td>...</td>\n      <td>...</td>\n      <td>...</td>\n      <td>...</td>\n      <td>...</td>\n      <td>...</td>\n      <td>...</td>\n      <td>...</td>\n      <td>...</td>\n      <td>...</td>\n      <td>...</td>\n      <td>...</td>\n      <td>...</td>\n    </tr>\n    <tr>\n      <th>265718</th>\n      <td>193609</td>\n      <td>Andrew Dice Clay: Dice Rules</td>\n      <td>1991</td>\n      <td>0</td>\n      <td>0</td>\n      <td>0</td>\n      <td>0</td>\n      <td>0</td>\n      <td>1</td>\n      <td>0</td>\n      <td>...</td>\n      <td>0</td>\n      <td>0</td>\n      <td>0</td>\n      <td>101726</td>\n      <td>37891.0</td>\n      <td>0</td>\n      <td>85</td>\n      <td>4.00000</td>\n      <td>0.0</td>\n      <td>Alex Thaler</td>\n    </tr>\n    <tr>\n      <th>265719</th>\n      <td>193609</td>\n      <td>Andrew Dice Clay: Dice Rules</td>\n      <td>1991</td>\n      <td>0</td>\n      <td>0</td>\n      <td>0</td>\n      <td>0</td>\n      <td>0</td>\n      <td>1</td>\n      <td>0</td>\n      <td>...</td>\n      <td>0</td>\n      <td>0</td>\n      <td>0</td>\n      <td>101726</td>\n      <td>37891.0</td>\n      <td>0</td>\n      <td>85</td>\n      <td>4.00000</td>\n      <td>1.0</td>\n      <td>Sharon Bialy</td>\n    </tr>\n    <tr>\n      <th>265720</th>\n      <td>193609</td>\n      <td>Andrew Dice Clay: Dice Rules</td>\n      <td>1991</td>\n      <td>0</td>\n      <td>0</td>\n      <td>0</td>\n      <td>0</td>\n      <td>0</td>\n      <td>1</td>\n      <td>0</td>\n      <td>...</td>\n      <td>0</td>\n      <td>0</td>\n      <td>0</td>\n      <td>101726</td>\n      <td>37891.0</td>\n      <td>0</td>\n      <td>85</td>\n      <td>4.00000</td>\n      <td>1.0</td>\n      <td>Debi Manwiller</td>\n    </tr>\n    <tr>\n      <th>265721</th>\n      <td>193609</td>\n      <td>Andrew Dice Clay: Dice Rules</td>\n      <td>1991</td>\n      <td>0</td>\n      <td>0</td>\n      <td>0</td>\n      <td>0</td>\n      <td>0</td>\n      <td>1</td>\n      <td>0</td>\n      <td>...</td>\n      <td>0</td>\n      <td>0</td>\n      <td>0</td>\n      <td>101726</td>\n      <td>37891.0</td>\n      <td>0</td>\n      <td>85</td>\n      <td>4.00000</td>\n      <td>1.0</td>\n      <td>Mary Margiotta</td>\n    </tr>\n    <tr>\n      <th>265722</th>\n      <td>193609</td>\n      <td>Andrew Dice Clay: Dice Rules</td>\n      <td>1991</td>\n      <td>0</td>\n      <td>0</td>\n      <td>0</td>\n      <td>0</td>\n      <td>0</td>\n      <td>1</td>\n      <td>0</td>\n      <td>...</td>\n      <td>0</td>\n      <td>0</td>\n      <td>0</td>\n      <td>101726</td>\n      <td>37891.0</td>\n      <td>0</td>\n      <td>85</td>\n      <td>4.00000</td>\n      <td>2.0</td>\n      <td>Richard Pagano</td>\n    </tr>\n  </tbody>\n</table>\n<p>265723 rows × 30 columns</p>\n</div>"
     },
     "metadata": {},
     "execution_count": 28
    }
   ],
   "source": [
    "data = movie_data.merge(cast_data, on='movieId')\n",
    "data"
   ]
  },
  {
   "cell_type": "code",
   "execution_count": 29,
   "metadata": {},
   "outputs": [
    {
     "output_type": "execute_result",
     "data": {
      "text/plain": [
       "Index(['movieId', 'title', 'year', 'No Genre', 'Action', 'Adventure',\n",
       "       'Animation', 'Children', 'Comedy', 'Crime', 'Documentary', 'Drama',\n",
       "       'Fantasy', 'Film-Noir', 'Horror', 'IMAX', 'Musical', 'Mystery',\n",
       "       'Romance', 'Sci-Fi', 'Thriller', 'War', 'Western', 'imdbId', 'tmdbId',\n",
       "       'budget', 'runtime', 'rating', 'gender', 'name'],\n",
       "      dtype='object')"
      ]
     },
     "metadata": {},
     "execution_count": 29
    }
   ],
   "source": [
    "data.columns"
   ]
  },
  {
   "cell_type": "code",
   "execution_count": 30,
   "metadata": {},
   "outputs": [
    {
     "output_type": "execute_result",
     "data": {
      "text/plain": [
       "        movieId  gender            name                         title  year  \\\n",
       "0             1     2.0       Tom Hanks                     Toy Story  1995   \n",
       "1             1     2.0       Tim Allen                     Toy Story  1995   \n",
       "2             1     2.0     Don Rickles                     Toy Story  1995   \n",
       "3             1     2.0      Jim Varney                     Toy Story  1995   \n",
       "4             1     2.0   Wallace Shawn                     Toy Story  1995   \n",
       "...         ...     ...             ...                           ...   ...   \n",
       "265718   193609     0.0     Alex Thaler  Andrew Dice Clay: Dice Rules  1991   \n",
       "265719   193609     1.0    Sharon Bialy  Andrew Dice Clay: Dice Rules  1991   \n",
       "265720   193609     1.0  Debi Manwiller  Andrew Dice Clay: Dice Rules  1991   \n",
       "265721   193609     1.0  Mary Margiotta  Andrew Dice Clay: Dice Rules  1991   \n",
       "265722   193609     2.0  Richard Pagano  Andrew Dice Clay: Dice Rules  1991   \n",
       "\n",
       "          budget  runtime  No Genre  Action  Adventure  ...  Horror  IMAX  \\\n",
       "0       30000000       81         0       0          1  ...       0     0   \n",
       "1       30000000       81         0       0          1  ...       0     0   \n",
       "2       30000000       81         0       0          1  ...       0     0   \n",
       "3       30000000       81         0       0          1  ...       0     0   \n",
       "4       30000000       81         0       0          1  ...       0     0   \n",
       "...          ...      ...       ...     ...        ...  ...     ...   ...   \n",
       "265718         0       85         0       0          0  ...       0     0   \n",
       "265719         0       85         0       0          0  ...       0     0   \n",
       "265720         0       85         0       0          0  ...       0     0   \n",
       "265721         0       85         0       0          0  ...       0     0   \n",
       "265722         0       85         0       0          0  ...       0     0   \n",
       "\n",
       "        Musical  Mystery  Romance  Sci-Fi  Thriller  War  Western   rating  \n",
       "0             0        0        0       0         0    0        0  3.92093  \n",
       "1             0        0        0       0         0    0        0  3.92093  \n",
       "2             0        0        0       0         0    0        0  3.92093  \n",
       "3             0        0        0       0         0    0        0  3.92093  \n",
       "4             0        0        0       0         0    0        0  3.92093  \n",
       "...         ...      ...      ...     ...       ...  ...      ...      ...  \n",
       "265718        0        0        0       0         0    0        0  4.00000  \n",
       "265719        0        0        0       0         0    0        0  4.00000  \n",
       "265720        0        0        0       0         0    0        0  4.00000  \n",
       "265721        0        0        0       0         0    0        0  4.00000  \n",
       "265722        0        0        0       0         0    0        0  4.00000  \n",
       "\n",
       "[265723 rows x 28 columns]"
      ],
      "text/html": "<div>\n<style scoped>\n    .dataframe tbody tr th:only-of-type {\n        vertical-align: middle;\n    }\n\n    .dataframe tbody tr th {\n        vertical-align: top;\n    }\n\n    .dataframe thead th {\n        text-align: right;\n    }\n</style>\n<table border=\"1\" class=\"dataframe\">\n  <thead>\n    <tr style=\"text-align: right;\">\n      <th></th>\n      <th>movieId</th>\n      <th>gender</th>\n      <th>name</th>\n      <th>title</th>\n      <th>year</th>\n      <th>budget</th>\n      <th>runtime</th>\n      <th>No Genre</th>\n      <th>Action</th>\n      <th>Adventure</th>\n      <th>...</th>\n      <th>Horror</th>\n      <th>IMAX</th>\n      <th>Musical</th>\n      <th>Mystery</th>\n      <th>Romance</th>\n      <th>Sci-Fi</th>\n      <th>Thriller</th>\n      <th>War</th>\n      <th>Western</th>\n      <th>rating</th>\n    </tr>\n  </thead>\n  <tbody>\n    <tr>\n      <th>0</th>\n      <td>1</td>\n      <td>2.0</td>\n      <td>Tom Hanks</td>\n      <td>Toy Story</td>\n      <td>1995</td>\n      <td>30000000</td>\n      <td>81</td>\n      <td>0</td>\n      <td>0</td>\n      <td>1</td>\n      <td>...</td>\n      <td>0</td>\n      <td>0</td>\n      <td>0</td>\n      <td>0</td>\n      <td>0</td>\n      <td>0</td>\n      <td>0</td>\n      <td>0</td>\n      <td>0</td>\n      <td>3.92093</td>\n    </tr>\n    <tr>\n      <th>1</th>\n      <td>1</td>\n      <td>2.0</td>\n      <td>Tim Allen</td>\n      <td>Toy Story</td>\n      <td>1995</td>\n      <td>30000000</td>\n      <td>81</td>\n      <td>0</td>\n      <td>0</td>\n      <td>1</td>\n      <td>...</td>\n      <td>0</td>\n      <td>0</td>\n      <td>0</td>\n      <td>0</td>\n      <td>0</td>\n      <td>0</td>\n      <td>0</td>\n      <td>0</td>\n      <td>0</td>\n      <td>3.92093</td>\n    </tr>\n    <tr>\n      <th>2</th>\n      <td>1</td>\n      <td>2.0</td>\n      <td>Don Rickles</td>\n      <td>Toy Story</td>\n      <td>1995</td>\n      <td>30000000</td>\n      <td>81</td>\n      <td>0</td>\n      <td>0</td>\n      <td>1</td>\n      <td>...</td>\n      <td>0</td>\n      <td>0</td>\n      <td>0</td>\n      <td>0</td>\n      <td>0</td>\n      <td>0</td>\n      <td>0</td>\n      <td>0</td>\n      <td>0</td>\n      <td>3.92093</td>\n    </tr>\n    <tr>\n      <th>3</th>\n      <td>1</td>\n      <td>2.0</td>\n      <td>Jim Varney</td>\n      <td>Toy Story</td>\n      <td>1995</td>\n      <td>30000000</td>\n      <td>81</td>\n      <td>0</td>\n      <td>0</td>\n      <td>1</td>\n      <td>...</td>\n      <td>0</td>\n      <td>0</td>\n      <td>0</td>\n      <td>0</td>\n      <td>0</td>\n      <td>0</td>\n      <td>0</td>\n      <td>0</td>\n      <td>0</td>\n      <td>3.92093</td>\n    </tr>\n    <tr>\n      <th>4</th>\n      <td>1</td>\n      <td>2.0</td>\n      <td>Wallace Shawn</td>\n      <td>Toy Story</td>\n      <td>1995</td>\n      <td>30000000</td>\n      <td>81</td>\n      <td>0</td>\n      <td>0</td>\n      <td>1</td>\n      <td>...</td>\n      <td>0</td>\n      <td>0</td>\n      <td>0</td>\n      <td>0</td>\n      <td>0</td>\n      <td>0</td>\n      <td>0</td>\n      <td>0</td>\n      <td>0</td>\n      <td>3.92093</td>\n    </tr>\n    <tr>\n      <th>...</th>\n      <td>...</td>\n      <td>...</td>\n      <td>...</td>\n      <td>...</td>\n      <td>...</td>\n      <td>...</td>\n      <td>...</td>\n      <td>...</td>\n      <td>...</td>\n      <td>...</td>\n      <td>...</td>\n      <td>...</td>\n      <td>...</td>\n      <td>...</td>\n      <td>...</td>\n      <td>...</td>\n      <td>...</td>\n      <td>...</td>\n      <td>...</td>\n      <td>...</td>\n      <td>...</td>\n    </tr>\n    <tr>\n      <th>265718</th>\n      <td>193609</td>\n      <td>0.0</td>\n      <td>Alex Thaler</td>\n      <td>Andrew Dice Clay: Dice Rules</td>\n      <td>1991</td>\n      <td>0</td>\n      <td>85</td>\n      <td>0</td>\n      <td>0</td>\n      <td>0</td>\n      <td>...</td>\n      <td>0</td>\n      <td>0</td>\n      <td>0</td>\n      <td>0</td>\n      <td>0</td>\n      <td>0</td>\n      <td>0</td>\n      <td>0</td>\n      <td>0</td>\n      <td>4.00000</td>\n    </tr>\n    <tr>\n      <th>265719</th>\n      <td>193609</td>\n      <td>1.0</td>\n      <td>Sharon Bialy</td>\n      <td>Andrew Dice Clay: Dice Rules</td>\n      <td>1991</td>\n      <td>0</td>\n      <td>85</td>\n      <td>0</td>\n      <td>0</td>\n      <td>0</td>\n      <td>...</td>\n      <td>0</td>\n      <td>0</td>\n      <td>0</td>\n      <td>0</td>\n      <td>0</td>\n      <td>0</td>\n      <td>0</td>\n      <td>0</td>\n      <td>0</td>\n      <td>4.00000</td>\n    </tr>\n    <tr>\n      <th>265720</th>\n      <td>193609</td>\n      <td>1.0</td>\n      <td>Debi Manwiller</td>\n      <td>Andrew Dice Clay: Dice Rules</td>\n      <td>1991</td>\n      <td>0</td>\n      <td>85</td>\n      <td>0</td>\n      <td>0</td>\n      <td>0</td>\n      <td>...</td>\n      <td>0</td>\n      <td>0</td>\n      <td>0</td>\n      <td>0</td>\n      <td>0</td>\n      <td>0</td>\n      <td>0</td>\n      <td>0</td>\n      <td>0</td>\n      <td>4.00000</td>\n    </tr>\n    <tr>\n      <th>265721</th>\n      <td>193609</td>\n      <td>1.0</td>\n      <td>Mary Margiotta</td>\n      <td>Andrew Dice Clay: Dice Rules</td>\n      <td>1991</td>\n      <td>0</td>\n      <td>85</td>\n      <td>0</td>\n      <td>0</td>\n      <td>0</td>\n      <td>...</td>\n      <td>0</td>\n      <td>0</td>\n      <td>0</td>\n      <td>0</td>\n      <td>0</td>\n      <td>0</td>\n      <td>0</td>\n      <td>0</td>\n      <td>0</td>\n      <td>4.00000</td>\n    </tr>\n    <tr>\n      <th>265722</th>\n      <td>193609</td>\n      <td>2.0</td>\n      <td>Richard Pagano</td>\n      <td>Andrew Dice Clay: Dice Rules</td>\n      <td>1991</td>\n      <td>0</td>\n      <td>85</td>\n      <td>0</td>\n      <td>0</td>\n      <td>0</td>\n      <td>...</td>\n      <td>0</td>\n      <td>0</td>\n      <td>0</td>\n      <td>0</td>\n      <td>0</td>\n      <td>0</td>\n      <td>0</td>\n      <td>0</td>\n      <td>0</td>\n      <td>4.00000</td>\n    </tr>\n  </tbody>\n</table>\n<p>265723 rows × 28 columns</p>\n</div>"
     },
     "metadata": {},
     "execution_count": 30
    }
   ],
   "source": [
    "cols = ['movieId', 'gender', 'name', 'title', 'year', 'budget', 'runtime', 'No Genre', 'Action', 'Adventure',\n",
    "       'Animation', 'Children', 'Comedy', 'Crime', 'Documentary', 'Drama',\n",
    "       'Fantasy', 'Film-Noir', 'Horror', 'IMAX', 'Musical', 'Mystery',\n",
    "       'Romance', 'Sci-Fi', 'Thriller', 'War', 'Western', 'rating']\n",
    "data = data[cols]\n",
    "data"
   ]
  },
  {
   "cell_type": "markdown",
   "metadata": {},
   "source": [
    "# Write to CSV file"
   ]
  },
  {
   "cell_type": "code",
   "execution_count": 31,
   "metadata": {},
   "outputs": [],
   "source": [
    "data.to_csv('data/cleaned_data.csv')"
   ]
  }
 ],
 "metadata": {
  "kernelspec": {
   "name": "python385jvsc74a57bd0f9242b03ecf991640825e81e49a2ca7eed424af8abf4b229dedf9a78a7f859fa",
   "display_name": "Python 3.8.5 64-bit ('base': conda)"
  },
  "language_info": {
   "codemirror_mode": {
    "name": "ipython",
    "version": 3
   },
   "file_extension": ".py",
   "mimetype": "text/x-python",
   "name": "python",
   "nbconvert_exporter": "python",
   "pygments_lexer": "ipython3",
   "version": "3.8.5"
  }
 },
 "nbformat": 4,
 "nbformat_minor": 4
}